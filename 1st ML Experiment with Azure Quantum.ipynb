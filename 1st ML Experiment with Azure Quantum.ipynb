{
  "cells": [
    {
      "cell_type": "markdown",
      "metadata": {
        "nteract": {
          "transient": {
            "deleting": false
          }
        }
      },
      "source": [
        "# Sample based on Qiskit First Machine Learning Programming Experiment\n",
        "https://github.com/Qiskit/qiskit-machine-learning"
      ]
    },
    {
      "cell_type": "code",
      "execution_count": null,
      "metadata": {
        "jupyter": {
          "outputs_hidden": false,
          "source_hidden": false
        },
        "nteract": {
          "transient": {
            "deleting": false
          }
        }
      },
      "outputs": [],
      "source": [
        "# Restart the kernel after running that cell\n",
        "!pip install qiskit-machine-learning qiskit-terra==0.20.1"
      ]
    },
    {
      "cell_type": "code",
      "execution_count": 10,
      "metadata": {
        "jupyter": {
          "outputs_hidden": false,
          "source_hidden": false
        },
        "nteract": {
          "transient": {
            "deleting": false
          }
        }
      },
      "outputs": [],
      "source": [
        "from qiskit import *\n",
        "from qiskit.utils import QuantumInstance"
      ]
    },
    {
      "cell_type": "markdown",
      "metadata": {
        "nteract": {
          "transient": {
            "deleting": false
          }
        }
      },
      "source": [
        "# Choose between various Azure Quantum backends available\n",
        "See how to add Azure Quantum Providers at https://learn.microsoft.com/azure/quantum/how-to-add-a-provider"
      ]
    },
    {
      "cell_type": "code",
      "execution_count": 4,
      "metadata": {
        "jupyter": {
          "outputs_hidden": false,
          "source_hidden": false
        },
        "nteract": {
          "transient": {
            "deleting": false
          }
        }
      },
      "outputs": [],
      "source": [
        "from azure.quantum.qiskit import AzureQuantumProvider\n",
        "provider = AzureQuantumProvider (\n",
        "    resource_id = \"\",\n",
        "    location = \"\"\n",
        ")\n",
        "\n",
        "# Create IonQ simulator and QPU backends\n",
        "ionq_simulator_backend = provider.get_backend(\"ionq.simulator\")\n",
        "ionq_qpu_backend = provider.get_backend(\"ionq.qpu\")\n",
        "\n",
        "# Create Rigetti simulator and QPU backends\n",
        "rigetti_simulator_backend = provider.get_backend(\"rigetti.sim.qvm\")\n",
        "rigetti_qpu_backend = provider.get_backend(\"rigetti.qpu.aspen-m-3\")\n",
        "\n",
        "# Create Quantinuum simulator and QPU backends\n",
        "quantinuum_simulator_backend = provider.get_backend(\"quantinuum.sim.h1-2e\")\n",
        "quantinuum_qpu_backend = provider.get_backend(\"quantinuum.qpu.h1-2\")\n",
        "\n",
        "backend = ionq_simulator_backend\n"
      ]
    },
    {
      "cell_type": "markdown",
      "metadata": {
        "nteract": {
          "transient": {
            "deleting": false
          }
        }
      },
      "source": [
        "# Straight from the Qiskit Machine Learning sample\n",
        "Only addition is the QuantumInstance when creating the VQC object: quantum_instance=QuantumInstance(backend)"
      ]
    },
    {
      "cell_type": "code",
      "execution_count": null,
      "metadata": {
        "jupyter": {
          "outputs_hidden": false,
          "source_hidden": false
        },
        "nteract": {
          "transient": {
            "deleting": false
          }
        }
      },
      "outputs": [],
      "source": [
        "from qiskit.algorithms.optimizers import COBYLA\n",
        "from qiskit.circuit.library import TwoLocal, ZZFeatureMap\n",
        "from qiskit.utils import algorithm_globals\n",
        "\n",
        "from qiskit_machine_learning.algorithms import VQC\n",
        "from qiskit_machine_learning.datasets import ad_hoc_data\n",
        "\n",
        "seed = 1376\n",
        "algorithm_globals.random_seed = seed\n",
        "\n",
        "# Use ad hoc data set for training and test data\n",
        "feature_dim = 2  # dimension of each data point\n",
        "training_size = 20\n",
        "test_size = 10\n",
        "\n",
        "# training features, training labels, test features, test labels as np.ndarray,\n",
        "# one hot encoding for labels\n",
        "training_features, training_labels, test_features, test_labels = ad_hoc_data(\n",
        "    training_size=training_size, test_size=test_size, n=feature_dim, gap=0.3\n",
        ")\n",
        "\n",
        "feature_map = ZZFeatureMap(feature_dimension=feature_dim, reps=2, entanglement=\"linear\")\n",
        "ansatz = TwoLocal(feature_map.num_qubits, [\"ry\", \"rz\"], \"cz\", reps=3)\n",
        "vqc = VQC(\n",
        "    feature_map=feature_map,\n",
        "    ansatz=ansatz,\n",
        "    optimizer=COBYLA(maxiter=100),\n",
        "    quantum_instance=QuantumInstance(backend),\n",
        ")\n",
        "vqc.fit(training_features, training_labels)\n",
        "\n",
        "score = vqc.score(test_features, test_labels)\n",
        "print(f\"Testing accuracy: {score:0.2f}\")"
      ]
    }
  ],
  "metadata": {
    "kernel_info": {
      "name": "python3"
    },
    "kernelspec": {
      "display_name": "Python 3 (ipykernel)",
      "language": "python",
      "name": "python3"
    },
    "language_info": {
      "codemirror_mode": {
        "name": "ipython",
        "version": 3
      },
      "file_extension": ".py",
      "mimetype": "text/x-python",
      "name": "python",
      "nbconvert_exporter": "python",
      "pygments_lexer": "ipython3",
      "version": "3.9.15"
    },
    "nteract": {
      "version": "nteract-front-end@1.0.0"
    }
  },
  "nbformat": 4,
  "nbformat_minor": 0
}

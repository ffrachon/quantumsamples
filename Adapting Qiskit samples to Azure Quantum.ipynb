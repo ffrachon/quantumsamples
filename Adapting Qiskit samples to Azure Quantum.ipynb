{
  "cells": [
    {
      "attachments": {},
      "cell_type": "markdown",
      "metadata": {
        "nteract": {
          "transient": {
            "deleting": false
          }
        }
      },
      "source": [
        "# Adapting Qiskit samples to run on Azure Quantum\n",
        "\n",
        "If you have some experience with quantum computing or just starting, it is likely that you use some samples from Qiskit.org. This Jupyter notebook walks you through 4 simple steps to adapt an existing Qiskit sample to run against any of the Azure Quantum back-ends."
      ]
    },
    {
      "attachments": {},
      "cell_type": "markdown",
      "metadata": {
        "nteract": {
          "transient": {
            "deleting": false
          }
        }
      },
      "source": [
        "# 1. Download a sample from Qiskit.org\n",
        "Let's say you want to try the QAOA sample: https://qiskit.org/textbook/ch-applications/qaoa.html\n",
        "\n",
        "1. Locate the **Download as Jupyter Notebook** hyperlink on the right side of the page\n",
        "2. Download the Jupyter Notebook\n",
        "3. Open your Azure Quantum workspace > **Notebooks**\n",
        "4. Click **My notebooks** > ...\n",
        "5. Click on the **Upload new** button and select the notebook your just downloaded\n",
        "6. Open the newly imported notebook"
      ]
    },
    {
      "cell_type": "markdown",
      "metadata": {
        "nteract": {
          "transient": {
            "deleting": false
          }
        }
      },
      "source": [
        "# 2. Locate the aer_simulator\n",
        "Most samples are configured to run by default against the aer_simulator, which is a great way to get started.\n",
        "\n",
        "1. Locate the cell that has a line like the following:\n",
        "**backend = Aer.get_backend('aer_simulator')**\n",
        "2. Comment out that line\n",
        "\n"
      ]
    },
    {
      "cell_type": "markdown",
      "metadata": {
        "nteract": {
          "transient": {
            "deleting": false
          }
        }
      },
      "source": [
        "# 3. Replace the aer_simulator with an Azure Quantum backend\n",
        "\n",
        "1. Add a new code cell prior to the cell that had backend = Aer.get_backend('aer_simulator')\n",
        "2. Add the following code\n",
        "\n",
        "```\n",
        "from azure.quantum.qiskit import AzureQuantumProvider\n",
        "provider = AzureQuantumProvider (\n",
        "    resource_id = \"\",\n",
        "    location = \"\"\n",
        ")\n",
        "\n",
        "# Create IonQ simulator and QPU backends\n",
        "ionq_simulator_backend = provider.get_backend(\"ionq.simulator\")\n",
        "ionq_qpu_backend = provider.get_backend(\"ionq.qpu.aria-1\")\n",
        "\n",
        "# Create Rigetti simulator and QPU backends\n",
        "rigetti_simulator_backend = provider.get_backend(\"rigetti.sim.qvm\")\n",
        "rigetti_qpu_backend = provider.get_backend(\"rigetti.qpu.aspen-m-3\")\n",
        "\n",
        "# Create Quantinuum simulator and QPU backends\n",
        "quantinuum_simulator_backend = provider.get_backend(\"quantinuum.sim.h1-2sc\")\n",
        "quantinuum_qpu_backend = provider.get_backend(\"quantinuum.qpu.h1-2\")\n",
        "\n",
        "backend = ionq_simulator_backend\n",
        "```\n",
        "\n"
      ]
    },
    {
      "cell_type": "markdown",
      "metadata": {
        "nteract": {
          "transient": {
            "deleting": false
          }
        }
      },
      "source": [
        "# 4. Update code with your workspace information\n",
        "\n",
        "1. Make sure you save your notebook. Click **Save**. Never too sure :)\n",
        "2. In the left pane of your Azure Quantum workspace, click **Overview**\n",
        "3. In the top right, copy the Resource Id, by clickin on the **Copy to clipboard** icon that appears when you hover it.\n",
        "4.Memorize the **Location** (for instance 'West Europe')\n",
        "5. Open again your notebook (Notebooks > My notebooks)\n",
        "6. Add the Resource Id to **resource_id** in the AzureQuantumProvider\n",
        "7. Repeat for the **location** using the Location you memorized in step 4."
      ]
    },
    {
      "cell_type": "markdown",
      "metadata": {
        "nteract": {
          "transient": {
            "deleting": false
          }
        }
      },
      "source": [
        "# You are ready!\n",
        "Do a **Run all** and verify that you have jobs being queued under Job management."
      ]
    }
  ],
  "metadata": {
    "kernel_info": {
      "name": "python3"
    },
    "kernelspec": {
      "display_name": "Python 3",
      "language": "python",
      "name": "python3"
    },
    "language_info": {
      "codemirror_mode": {
        "name": "ipython",
        "version": 3
      },
      "file_extension": ".py",
      "mimetype": "text/x-python",
      "name": "python",
      "nbconvert_exporter": "python",
      "pygments_lexer": "ipython3",
      "version": "3.10.9 (tags/v3.10.9:1dd9be6, Dec  6 2022, 20:01:21) [MSC v.1934 64 bit (AMD64)]"
    },
    "nteract": {
      "version": "nteract-front-end@1.0.0"
    },
    "vscode": {
      "interpreter": {
        "hash": "b6bcd221c9cd9ce3727161d70256b3c0b2b563aa4bdf9e9f2833e204c83333df"
      }
    }
  },
  "nbformat": 4,
  "nbformat_minor": 0
}

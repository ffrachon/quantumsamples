{
 "cells": [
  {
   "attachments": {},
   "cell_type": "markdown",
   "id": "536532e3-e7d1-4dd3-89bd-e42364e0f0a3",
   "metadata": {},
   "source": [
    "# Recursive Quantum Approximate Optimization Algorithm"
   ]
  },
  {
   "attachments": {},
   "cell_type": "markdown",
   "id": "c23791bb-879b-4ae1-85ca-b4ddf0678df2",
   "metadata": {},
   "source": [
    "In this notebook, we provide a short introduction to recursive QAOA, and demonstrate how this technique is implemented in the OpenQAOA workflows by solving a fully-connected Hamiltonian with $\\pm 1$ weights."
   ]
  },
  {
   "attachments": {},
   "cell_type": "markdown",
   "id": "21db9274-9f0d-4056-91ac-d6675af70d22",
   "metadata": {
    "tags": []
   },
   "source": [
    "### A brief introduction to RQAOA"
   ]
  },
  {
   "attachments": {},
   "cell_type": "markdown",
   "id": "5e32b853-04df-4f17-b494-c8c6a6ff8a19",
   "metadata": {},
   "source": [
    "Recursive QAOA (RQAOA) is an iterative variant of QAOA, first introduced by Bravyi et al. in [1] and further explored in [2,3]. \n",
    "\n",
    "This technique consists in recursively reducing the size of the problem by running QAOA. At each step, the QAOA output distribution is used to compute the expectation values \n",
    "\n",
    "$$\n",
    "\\mathcal{M}_{i} = \\langle Z_{i} \\rangle \\qquad \\qquad \\qquad \\qquad \\qquad \\mathcal{M}_{ij} = \\langle Z_{i}Z_{j} \\rangle,\n",
    "$$\n",
    "\n",
    "associated with the terms present in the Hamiltonian. Note that, by definition, these quantities are bounded between -1 and 1. The expectation values are then ranked according to their magnitude $|\\mathcal{M}_{(i),(ij)}|$, where we use $\\mathcal{M}_{(i),(ij)}$ to generically refer to both single- and two-spin expectation values. In its original formulation, the highest ranked value is selected. This value is then utilized to eliminate a qubit from the Hamiltonian, by imposing a constraint on the respective qubits, according to the nature of the highest ranked expectation value. The two kinds of constraints are\n",
    "\n",
    "$$\n",
    "Z_{i} \\mapsto \\textrm{sign}(\\mathcal{M}_{(i)}) \\qquad \\qquad \\textrm{and} \\qquad \\qquad  Z_{i} \\mapsto \\textrm{sign}(\\mathcal{M}_{(ij)}) Z_{j},\n",
    "$$\n",
    "\n",
    "where the expectation value is rounded via the `sign` operation for consistency. The first one can be interpreted as fixing qubit $i$ to a specific state, $| 0 \\rangle$ if $\\textrm{sign}(\\mathcal{M}_{(i)}) > 0$ and $|1 \\rangle$ if $\\textrm{sign}(\\mathcal{M}_{(i)})  < 0$, and the second one as fixing qubit $i$ with respect to the configuration of $j$, i.e. $i$ and $j$ will be aligned if $\\textrm{sign}(\\mathcal{M}_{(ij)})> 0$ and antialigned otherwise. Inserting the correponding constraint directly into the Hamiltonian, we reduce the size of the problem by one qubit. Using the reduced Hamiltonian, QAOA is then run again and the same procedure is followed. Once the reduced problem reaches a predefined cutoff size $n_{\\textrm{cutoff}}$, it is solved exactly via classical methods. The final answer is then reconstructed by re-inserting the eliminated qubits into the classical solution following the appropriate order.\n",
    "\n",
    "In summary, the process is:\n",
    "\n",
    "1. Execute QAOA\n",
    "2. Compute expectation values $\\mathcal{M}_{(i),(ij)}$ of terms present in the Hamiltonian\n",
    "3. Rank expectation values according to their magnitude $|\\mathcal{M}_{(i),(ij)}|$\n",
    "4. Select the expectation value with highest magnitude\n",
    "5. Eliminate variable by imposing the appropriate constraint and obtain reduced problem\n",
    "6. If new problem size is smaller than $n_{\\textrm{cutoff}}$, obtain final solution classically and reinsert constraints, else, return to step 1 using the reducedproblem\n",
    "\n",
    "This version of RQAOA is included in OpenQAOA. Additionally, OpenQAOA incorporates RQAOA from two different generalized version of these procedure, which enable multiple qubit eliminations during the recursive process, modifying steps 4 and 5 above. These strategies are denoted as `custom` and `adaptive` [4], in accordance with the precise concept under which the elimination method takes place. In a nutshell, they are described as follows:\n",
    "\n",
    "\n",
    "* The ``custom`` strategy allows the user to define the number of eliminations to be performed at each step. This is defined by the parameter ``steps``. If the parameter is set as an integer, the algorithm will use this value as the number of qubits to be eliminated at each step. Alternatively, it is possible to pass a list, which specifies the number of qubits to be eliminated at each step. For ``steps = 1``, the algorithm reduces to the original form of RQAOA presented in [1].\n",
    "\n",
    "* The ``adaptive`` strategy adaptively selects how many qubits to eliminate at each step. The maximum number of allowed eliminations is given by the parameter ``n_max``. At each step, the algorithm selects the top ``n_max+1`` expectation values (ranked in magnitude), computes the mean among them, and uses the ones lying above it for qubit elimination. This corresponds to a maximum of ``n_max`` possible elimination per step. For ``n_max= 1``, the algorithm reduces to the original form of RQAOA presented in [1].\n",
    "\n",
    "**NOTE**: The specific performance of these generalizations is currently under investigation. In particular, the development of Adaptive RQAOA is associated with an internal research project at Entropica Labs to be released publicly in the near future [4]. We make these strategies already available to the community in order to strengthen the exploration of more complex elimination schemes for RQAOA, beyond its original formulation [1]."
   ]
  },
  {
   "attachments": {},
   "cell_type": "markdown",
   "id": "61270353-74c9-4163-a663-5c89d18976fc",
   "metadata": {},
   "source": [
    "# References"
   ]
  },
  {
   "attachments": {},
   "cell_type": "markdown",
   "id": "6534a736-093b-44d3-95b6-7a8fa309c2f8",
   "metadata": {},
   "source": [
    "[1] S. Bravyi, A. Kliesch, R. Koenig, and E. Tang, [Physical Review Letters 125, 260505 (2020)](https://journals.aps.org/prl/abstract/10.1103/PhysRevLett.125.260505) \\\n",
    "[2] S. Bravyi, A. Kliesch, R. Koenig, and E. Tang, [(2020), 10.22331/q-2022-03-30-678](https://quantum-journal.org/papers/q-2022-03-30-678/) \\\n",
    "[3] D. J. Egger, J. Marecek, and S. Woerner, [Quantum 5, 479 (2021)](https://doi.org/10.22331/q-2021-06-17-479) \\\n",
    "[4] E. I. Rodríguez Chiacchio, V. Sharma, E. Munro (Work in progress) "
   ]
  },
  {
   "cell_type": "code",
   "execution_count": null,
   "id": "f1b38648-393a-4974-af43-a2c7d960fb17",
   "metadata": {},
   "outputs": [],
   "source": [
    "try:\n",
    "    import openqaoa\n",
    "except ImportError:\n",
    "    !pip -q install openqaoa"
   ]
  },
  {
   "cell_type": "code",
   "execution_count": null,
   "id": "01bd94e3-7f36-4c38-85a8-f85283804369",
   "metadata": {},
   "outputs": [],
   "source": [
    "import numpy as np\n",
    "import networkx as nx\n",
    "import matplotlib.pyplot as plt\n",
    "\n",
    "from openqaoa import RQAOA, QUBO, create_device\n",
    "from openqaoa.utilities import ground_state_hamiltonian, plot_graph\n",
    "from openqaoa.qaoa_components import Hamiltonian"
   ]
  },
  {
   "attachments": {},
   "cell_type": "markdown",
   "id": "b7d33cb7-0110-4278-993f-69b5c4defbb6",
   "metadata": {},
   "source": [
    "## Setting the problem"
   ]
  },
  {
   "attachments": {},
   "cell_type": "markdown",
   "id": "be11f78a-d04d-46b3-891d-5b1e37e409fb",
   "metadata": {},
   "source": [
    "We define our problem to be a fully-connected system, where we choose the couplings $J_{ij}$ to be of magnitude 1, but with a randomly assigned signs, and for simplicity we set linear terms to 0. The workflow requires us to define the problem as an instance of the ``QUBO`` (Quadratic Unconstrained Binary Optimization) class, which is easily done by defining the connectivity of the problem and the coupling values."
   ]
  },
  {
   "cell_type": "code",
   "execution_count": null,
   "id": "1f9d971e-b5bc-4dcd-be67-f98742374570",
   "metadata": {},
   "outputs": [],
   "source": [
    "# Number of qubits\n",
    "n_qubits = 7\n",
    "\n",
    "# Define fully-connected terms\n",
    "terms = [(i,j) for j in range(n_qubits) for i in range(j)]\n",
    "\n",
    "# Assign coupling signs at random\n",
    "rng = np.random.default_rng(42)\n",
    "weights = [(-1)**np.round(rng.random()) for _ in range(len(terms))]\n",
    "\n",
    "# Define QUBO problem\n",
    "problem = QUBO(n_qubits,terms,weights)\n",
    "\n",
    "# Plot geometry\n",
    "problem_graph = nx.Graph()\n",
    "weighted_edges = [tuple(list(term) + [weight]) for term, weight in zip(terms,weights)] \n",
    "problem_graph.add_weighted_edges_from(weighted_edges)\n",
    "\n",
    "fig, ax = plt.subplots(1,1,figsize = (8,5))\n",
    "\n",
    "nx.draw_networkx(problem_graph, pos = nx.shell_layout(problem_graph), edge_color = weights, edge_cmap = plt.colormaps[\"bwr\"], ax = ax)\n",
    "\n",
    "sm = plt.cm.ScalarMappable(cmap=\"bwr\", norm=plt.Normalize(vmin=min(weights), vmax=max(weights)))\n",
    "cbar = plt.colorbar(sm, pad=0.08, ax = ax)\n",
    "cbar.ax.set_ylabel(\"Edge Weights\", rotation=270, labelpad=15)\n",
    "\n",
    "plt.show()"
   ]
  },
  {
   "attachments": {},
   "cell_type": "markdown",
   "id": "5746fe91-055b-490e-86cc-9df12002d74f",
   "metadata": {},
   "source": [
    "## Run RQAOA on a local simulator "
   ]
  },
  {
   "attachments": {},
   "cell_type": "markdown",
   "id": "73f38b8e-ddbc-4dad-bdca-b62e5757b8d3",
   "metadata": {},
   "source": [
    " We now demonstrate the full RQAOA workflow and how to run it on Azure Quantum devices"
   ]
  },
  {
   "cell_type": "code",
   "execution_count": null,
   "id": "4b799e98-7b6a-462d-acfa-70adf95c9db6",
   "metadata": {},
   "outputs": [],
   "source": [
    "# Define an instance of the RQAOA class\n",
    "r =  RQAOA()"
   ]
  },
  {
   "attachments": {},
   "cell_type": "markdown",
   "id": "05960a08-dd6f-4e32-ac11-cccdef09830c",
   "metadata": {},
   "source": [
    "Set up RQAOA properties"
   ]
  },
  {
   "cell_type": "code",
   "execution_count": null,
   "id": "c7f9000d-220c-4130-afac-fa119a330dfb",
   "metadata": {},
   "outputs": [],
   "source": [
    "n_cutoff = 3 #size at which to solve things classically\n",
    "\n",
    "n_steps = 1 #  Number of eliminations per step\n",
    "\n",
    "# Set instance parameters\n",
    "r.set_rqaoa_parameters(n_cutoff = n_cutoff, steps = n_steps, rqaoa_type = 'custom')"
   ]
  },
  {
   "attachments": {},
   "cell_type": "markdown",
   "id": "cddee917-d4d7-4318-8027-0d8e50b203ab",
   "metadata": {},
   "source": [
    "Set up the QAOA properties"
   ]
  },
  {
   "cell_type": "code",
   "execution_count": null,
   "id": "05b57abb-ed86-4a56-99a3-a6421c74149e",
   "metadata": {},
   "outputs": [],
   "source": [
    "device = create_device(location='local', name='vectorized')\n",
    "r.set_device(device)\n",
    "\n",
    "r.set_circuit_properties(p=1, param_type='standard', init_type='ramp', mixer_hamiltonian='x')\n",
    "r.set_classical_optimizer(method='cobyla', maxiter=200)"
   ]
  },
  {
   "cell_type": "code",
   "execution_count": null,
   "id": "820d8982-26fa-4f31-815f-fcfac9ba3fc0",
   "metadata": {},
   "outputs": [],
   "source": [
    "# Compile problem instance \n",
    "r.compile(problem)"
   ]
  },
  {
   "cell_type": "code",
   "execution_count": null,
   "id": "c2b41c5b-05d2-48b5-8ab6-5079a8e27156",
   "metadata": {},
   "outputs": [],
   "source": [
    "# Solve problem with RQAOA\n",
    "r.optimize()"
   ]
  },
  {
   "cell_type": "code",
   "execution_count": null,
   "id": "09a67012-282a-45a9-a847-8805a5a07f2b",
   "metadata": {},
   "outputs": [],
   "source": [
    "# Extract results\n",
    "result = r.result"
   ]
  },
  {
   "attachments": {},
   "cell_type": "markdown",
   "id": "161b7aa9-a7c7-4256-8527-5988cd818d45",
   "metadata": {},
   "source": [
    " The results show the final solution of the problem, the output from the classical solution on the reduced problem, the set of eliminations performed (on which pair and which correlation), the schedule followed (the number of eliminations at each step), the total number of recursive steps it took to reach the cutoff size and the all the information regarding the problem and QAOA run in the intermediate steps."
   ]
  },
  {
   "cell_type": "code",
   "execution_count": null,
   "id": "c5cb0bc0-c3e8-4d35-9628-2ebb449fd809",
   "metadata": {},
   "outputs": [],
   "source": [
    "result"
   ]
  },
  {
   "attachments": {},
   "cell_type": "markdown",
   "id": "f9a92de4-fd49-494f-b313-60610491766d",
   "metadata": {},
   "source": [
    " From the intermediate steps, we can extract useful properties such as the cost optimization, the shape of the system, or the correlation matrix at that step. The ``r.results`` object has some methods that help to get the intermediate steps: ``.get_qaoa_results(step)``, ``.get_problem(step)``, among many others (see https://openqaoa.entropicalabs.com/workflows/recursive-qaoa/)."
   ]
  },
  {
   "cell_type": "code",
   "execution_count": null,
   "id": "e8a35071-12f5-40ab-ae33-9bfb626aee76",
   "metadata": {},
   "outputs": [],
   "source": [
    "# Retrieve intermediate problem and QAOA optimization progress\n",
    "\n",
    "# Number of recursive steps\n",
    "num_steps = result['number_steps']\n",
    "\n",
    "fig, ax = plt.subplots(2,num_steps, figsize = (24,8))\n",
    "\n",
    "for i in range(num_steps):\n",
    "    \n",
    "    # Get the QUBO problem and QAOA result object for the last step\n",
    "    qaoa_results = result.get_qaoa_results(step = i)\n",
    "    qubo_problem = result.get_problem(step = i)\n",
    "    terms = [term.qubit_indices for term in qubo_problem.hamiltonian.terms]\n",
    "    weights = [weight for weight in qubo_problem.hamiltonian.coeffs]\n",
    "    \n",
    "    # Extract problem graph\n",
    "    qubo_graph = nx.Graph()\n",
    "    weighted_edges = [ tuple(list(term) +[weight]) for term,weight  in zip(terms,weights)]\n",
    "    qubo_graph.add_weighted_edges_from(weighted_edges)\n",
    "    \n",
    "    # Plot cost optimization\n",
    "    qaoa_results.plot_cost(ax = ax[0][i])\n",
    "    ax[0][i].set_title(f'Step {i+1}')\n",
    "    ax[0][i].get_legend().remove()\n",
    "    \n",
    "    # Plot problem graph\n",
    "    nx.draw_networkx(qubo_graph, pos = nx.shell_layout(qubo_graph), ax = ax[1][i], edge_color = weights, edge_cmap = plt.colormaps[\"bwr\"])\n",
    "    sm = plt.cm.ScalarMappable(cmap=\"bwr\", norm=plt.Normalize(vmin=min(weights), vmax=max(weights)))\n",
    "    cbar = plt.colorbar(sm, pad=0.08, ax = ax[1][i])"
   ]
  },
  {
   "attachments": {},
   "cell_type": "markdown",
   "id": "a8a47fa7-8113-416a-898f-5647e8167268",
   "metadata": {},
   "source": [
    "In these plots we can appreciate an important aspect of RQAOA: the topology of the problem will evolve unpredicatably throughout the recursive process. In this case, where we only consider quadratic terms, the only constraint that will be imposed is that of fixing one qubit with respect to a second one. In the language of graphs, this can be understood as merging two nodes, where the remaining node inherits all the edges from the merged one. From the point of view of the Hamiltonian, the couplings associated with qubits that were connected to both of the merged qubits will add up. For example, if we merge qubit $i$ into qubit $j$, and both where connected to qubit $k$ through couplings $J_{ik}$ and $J_{jk}$, the resulting connection between the remaining qubit $j$ and qubit $k$ will be $J_{jk} \\mapsto J_{jk} + J_{ik}$. You can easily check this by yourself by defining some generic Hamiltonian and imposing the constraint defined in the introduction! As a result, some edges will acquire values beyond the initial definition $|J_{ij}| = 1$. Furthermore, sometimes the couplings will cancel each other, resulting in certain edges disappearing from the graph. This can be observed on the second step of the process above, where the connection between qubits 1 and 2 has disappeared. Through the same mechanism, new connections can emerge between previously disconnected qubits, e.g. in the third step all qubits are again connected with each other. \n",
    "\n",
    "If we had also included linear terms in the problem and the constraints associated will single-spin expectation values were to be imposed, the change of topology would correspond to removing a node from the graph along with all edges incident in it. "
   ]
  },
  {
   "attachments": {},
   "cell_type": "markdown",
   "id": "9d99c9ae-b221-479f-a73b-3b545cfba62f",
   "metadata": {},
   "source": [
    "Finally, to check the quality of our results, we compute the exact solution, which can be done for any Hamiltonian of reasonable size using the OpenQAOA utility function ``ground_state_hamiltonian``. To use this function we define the problem as an instance of the ``Hamiltonian`` class, using the ``classical_hamiltonian`` method (given that our Hamiltonian is only composed of $Z$ operators). This class is widely used across OpenQAOA to generate mixer and cost Hamiltonians that define the QAOA structure."
   ]
  },
  {
   "cell_type": "code",
   "execution_count": null,
   "id": "8c8fd6a8-97dc-4a62-9823-5d68ace489fd",
   "metadata": {},
   "outputs": [],
   "source": [
    "# Get RQAOA solutions\n",
    "solutions = result.get_solution()\n",
    "states = list(solutions.keys())\n",
    "energy = list(solutions.values())[0]\n",
    "\n",
    "# Obtain exact solution for comparison\n",
    "\n",
    "# Define Hamiltonian object from terms and weights\n",
    "hamiltonian = Hamiltonian.classical_hamiltonian(terms,weights,constant = 0)\n",
    "\n",
    "# Compute the exact result\n",
    "exact_energy, ground_state_strings = ground_state_hamiltonian(hamiltonian)\n",
    "\n",
    "print(f'The solution found by RQAOA has energy = {energy} and ground states = {states}\\n')\n",
    "\n",
    "print(f'The exact energy is {exact_energy} and the solutions are {ground_state_strings}')"
   ]
  },
  {
   "attachments": {},
   "cell_type": "markdown",
   "id": "c2325780-509a-42e9-8647-0ee265e04011",
   "metadata": {},
   "source": [
    "As we can see, for this simple problem, RQAOA was able to to find two out of the four ground states!"
   ]
  },
  {
   "attachments": {},
   "cell_type": "markdown",
   "id": "2266b941-8ee5-405b-9dfe-8fdbff7e7f92",
   "metadata": {},
   "source": [
    "## Run RQAOA on a QPU"
   ]
  },
  {
   "attachments": {},
   "cell_type": "markdown",
   "id": "69355e37-ab36-4a3b-987f-2848693dd8f7",
   "metadata": {},
   "source": [
    "To run RQAOA, using OpenQAOA, now on a real quantum device, one simply needs to change the device parameters when defining the RQAOA instance, and voilá!"
   ]
  },
  {
   "cell_type": "code",
   "execution_count": null,
   "id": "f9999c24-a924-4126-9514-a0d2d9189e9b",
   "metadata": {},
   "outputs": [],
   "source": [
    "# Define an instance of the RQAOA class\n",
    "r_qpu =  RQAOA()\n",
    "\n",
    "# Set instance parameters\n",
    "r_qpu.set_rqaoa_parameters(n_cutoff = 3, steps = 1, rqaoa_type = 'custom')\n",
    "\n",
    "# Set the properties you want - These values are actually the default ones!\n",
    "r_qpu.set_circuit_properties(p=1, param_type='standard', init_type='ramp', mixer_hamiltonian='x')\n",
    "\n",
    "r_qpu.set_backend_properties(n_shots=500)\n",
    "\n",
    "# Set the classical method used to optimiza over QAOA angles and its properties, note that to make the computation leaner we set a tollerance of 0.05\n",
    "r_qpu.set_classical_optimizer(method='cobyla', maxiter=20, tol=0.05,  optimization_progress=True)"
   ]
  },
  {
   "cell_type": "code",
   "execution_count": null,
   "id": "89c0eede-bae4-4720-9a49-9a93642b0c35",
   "metadata": {},
   "outputs": [],
   "source": [
    "resource_id = ''\n",
    "az_location = ''\n",
    "\n",
    "ionq_sim = 'ionq.simulator'\n",
    "quantinuum_sim = 'quantinuum.sim.h1-1e'\n",
    "rigetti_sim = 'rigetti.sim.qvm'\n",
    "\n",
    "# Set the backend you want to use here.\n",
    "# WARNING: Quantinuum simulator usage is not unlimited. Running this sample against it could consume a significant amount of your eHQC quota.\n",
    "backend_to_use = ionq_sim"
   ]
  },
  {
   "cell_type": "code",
   "execution_count": null,
   "id": "4e0c0346-575c-4e32-96a4-dfd8deb14b36",
   "metadata": {},
   "outputs": [],
   "source": [
    "# Set a quantum device to run our instance\n",
    "device = create_device(location='azure', name='rigetti.sim.qvm', resource_id=resource_id, az_location=az_location)"
   ]
  },
  {
   "cell_type": "code",
   "execution_count": null,
   "id": "af73063b-6710-4b3e-a8cf-9d113e5a7520",
   "metadata": {},
   "outputs": [],
   "source": [
    "r_qpu.set_device(device)"
   ]
  },
  {
   "cell_type": "code",
   "execution_count": null,
   "id": "bc5265d1-fdd1-42c3-bea1-43ea1147205e",
   "metadata": {},
   "outputs": [],
   "source": [
    "r_qpu.compile(problem)"
   ]
  },
  {
   "cell_type": "code",
   "execution_count": null,
   "id": "2ef2a984-e1c7-43b5-9501-c669a9d26944",
   "metadata": {},
   "outputs": [],
   "source": [
    "r_qpu.optimize()"
   ]
  },
  {
   "cell_type": "code",
   "execution_count": null,
   "id": "24512456-8bc7-4820-9ac7-fd678a43b1a2",
   "metadata": {},
   "outputs": [],
   "source": [
    "result_qpu = r_qpu.result"
   ]
  },
  {
   "cell_type": "code",
   "execution_count": null,
   "id": "69c33b4f-fa6a-4737-ba53-acbbd2b1d3c8",
   "metadata": {},
   "outputs": [],
   "source": [
    "# Retrieve intermediate problem and QAOA optimization progress\n",
    "\n",
    "# Number of recursive steps\n",
    "num_steps = result['number_steps']\n",
    "\n",
    "fig, ax = plt.subplots(2,num_steps, figsize = (24,8))\n",
    "\n",
    "for i in range(num_steps):\n",
    "    \n",
    "    # Get the QUBO problem and QAOA result object for the last step\n",
    "    qaoa_results = result_qpu.get_qaoa_results(step = i)\n",
    "    qubo_problem = result_qpu.get_problem(step = i)\n",
    "    terms = [term.qubit_indices for term in qubo_problem.hamiltonian.terms]\n",
    "    weights = [weight for weight in qubo_problem.hamiltonian.coeffs]\n",
    "    \n",
    "    # Extract problem graph\n",
    "    qubo_graph = nx.Graph()\n",
    "    weighted_edges = [ tuple(list(term) +[weight]) for term,weight  in zip(terms,weights)]\n",
    "    qubo_graph.add_edges_from(qubo_problem.terms)\n",
    "    \n",
    "    # Plot cost optimization\n",
    "    qaoa_results.plot_cost(ax = ax[0][i])\n",
    "    ax[0][i].set_title(f'Step {i+1}')\n",
    "    ax[0][i].get_legend().remove()\n",
    "    \n",
    "    # Plot problem graph\n",
    "    nx.draw_networkx(qubo_graph, pos = nx.shell_layout(qubo_graph), ax = ax[1][i], edge_color = weights, edge_cmap = plt.colormaps[\"bwr\"])\n",
    "    sm = plt.cm.ScalarMappable(cmap=\"bwr\", norm=plt.Normalize(vmin=min(weights), vmax=max(weights)))\n",
    "    cbar = plt.colorbar(sm, pad=0.08, ax = ax[1][i])"
   ]
  },
  {
   "cell_type": "code",
   "execution_count": null,
   "id": "f768b64b-6092-4cfe-a8e0-f2a1721327fd",
   "metadata": {},
   "outputs": [],
   "source": [
    "# Get RQAOA solutions\n",
    "solutions_qpu = result_qpu.get_solution()\n",
    "states_qpu = list(solutions_qpu.keys())\n",
    "energy_qpu = list(solutions_qpu.values())[0]\n",
    "\n",
    "# Obtain exact solution for comparison\n",
    "\n",
    "# Define Hamiltonian object from terms and weights\n",
    "hamiltonian = Hamiltonian.classical_hamiltonian(terms,weights,constant = 0)\n",
    "\n",
    "# Compute the exact result\n",
    "exact_energy, ground_state_strings = ground_state_hamiltonian(hamiltonian)\n",
    "\n",
    "print(f'The solution found by RQAOA has energy = {energy_qpu} and ground states = {states_qpu}\\n')\n",
    "\n",
    "print(f'The exact energy is {exact_energy} and the solutions are {ground_state_strings}')"
   ]
  }
 ],
 "metadata": {
  "kernelspec": {
   "display_name": "Python 3 (ipykernel)",
   "language": "python",
   "name": "python3"
  },
  "language_info": {
   "codemirror_mode": {
    "name": "ipython",
    "version": 3
   },
   "file_extension": ".py",
   "mimetype": "text/x-python",
   "name": "python",
   "nbconvert_exporter": "python",
   "pygments_lexer": "ipython3",
   "version": "3.10.11"
  }
 },
 "nbformat": 4,
 "nbformat_minor": 5
}

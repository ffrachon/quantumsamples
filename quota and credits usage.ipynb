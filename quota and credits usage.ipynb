{
  "cells": [
    {
      "attachments": {},
      "cell_type": "markdown",
      "metadata": {
        "nteract": {
          "transient": {
            "deleting": false
          }
        }
      },
      "source": [
        "# Sample notebook showing usage at the Azure Subscription and current workspace level"
      ]
    },
    {
      "cell_type": "code",
      "execution_count": null,
      "metadata": {
        "jupyter": {
          "outputs_hidden": false,
          "source_hidden": false
        },
        "nteract": {
          "transient": {
            "deleting": false
          }
        }
      },
      "outputs": [],
      "source": [
        "from azure.quantum import Workspace\n",
        "workspace = Workspace (\n",
        "    subscription_id = \"\",\n",
        "    resource_group = \"\",\n",
        "    name = \"\",\n",
        "    location = \"\"\n",
        ")"
      ]
    },
    {
      "cell_type": "markdown",
      "metadata": {
        "nteract": {
          "transient": {
            "deleting": false
          }
        }
      },
      "source": [
        "## Usage at the subscription level"
      ]
    },
    {
      "cell_type": "code",
      "execution_count": null,
      "metadata": {
        "jupyter": {
          "outputs_hidden": false,
          "source_hidden": false
        },
        "nteract": {
          "transient": {
            "deleting": false
          }
        }
      },
      "outputs": [],
      "source": [
        "# This gathers usage against quota for the various providers (quota is set at the subscription level).\n",
        "# Note that a provider may have mutiple quotas, such as Quantinuum that limits usage of their Emulator.\n",
        "\n",
        "rigetti_quota = 0\n",
        "ionq_quota = 0\n",
        "quantinuum_hqc_quota = 0\n",
        "quantinuum_ehqc_quota = 0\n",
        "\n",
        "rigetti_quota_utilization = 0\n",
        "ionq_quota_utilization = 0\n",
        "quantinuum_hqc_quota_utilization = 0\n",
        "quantinuum_ehqc_quota_utilization = 0\n",
        "\n",
        "for quota in workspace.get_quotas():\n",
        "    if (quota['provider_id'] == 'rigetti'):\n",
        "        rigetti_quota = quota['limit']\n",
        "        rigetti_quota_utilization = quota['utilization']\n",
        "    if (quota['provider_id'] == 'ionq'):\n",
        "        ionq_quota = quota['limit']\n",
        "        ionq_quota_utilization = quota['utilization']\n",
        "    if (quota['dimension'] == 'hqc'):\n",
        "        quantinuum_hqc_quota = quota['limit']\n",
        "        quantinuum_hqc_quota_utilization = quota['utilization']\n",
        "    if (quota['dimension'] == 'ehqc'):\n",
        "        quantinuum_ehqc_quota = quota['limit']\n",
        "        quantinuum_ehqc_quota_utilization = quota['utilization']\n",
        "\n",
        "print('Rigetti quota use: ', \"{:,}\".format(rigetti_quota_utilization), '/', \"{:,}\".format(rigetti_quota))\n",
        "print('IonQ quota use:', \"{:,}\".format(ionq_quota_utilization), '/', \"{:,}\".format(ionq_quota))\n",
        "print('Quantinuum HQC quota use:', \"{:,}\".format(quantinuum_hqc_quota_utilization), '/', \"{:,}\".format(quantinuum_hqc_quota))\n",
        "print('Quantinuum eHQC quota use:', \"{:,}\".format(quantinuum_ehqc_quota_utilization), '/', \"{:,}\".format(quantinuum_ehqc_quota))\n"
      ]
    },
    {
      "cell_type": "markdown",
      "metadata": {
        "nteract": {
          "transient": {
            "deleting": false
          }
        }
      },
      "source": [
        "## Usage at the workspace level"
      ]
    },
    {
      "cell_type": "code",
      "execution_count": null,
      "metadata": {
        "jupyter": {
          "outputs_hidden": false,
          "source_hidden": false
        },
        "nteract": {
          "transient": {
            "deleting": false
          }
        }
      },
      "outputs": [],
      "source": [
        "# This gathers usage against quota for the various providers for the current workspace\n",
        "# As there can be multiple workspaces in a subscription, the quota usage for the workspace is less or equal to usage against quota at the subscription level\n",
        "\n",
        "amount_utilized_rigetti = 0\n",
        "amount_utilized_ionq = 0\n",
        "amount_utilized_quantinuum_hqc = 0\n",
        "amount_utilized_quantinuum_ehqc = 0\n",
        "\n",
        "for job in workspace.list_jobs():\n",
        "    if (job.details.cost_estimate != None):\n",
        "        for event in job.details.cost_estimate.events:\n",
        "            if (event.amount_consumed > 0):\n",
        "                #print(event.amount_consumed, event.dimension_name, 'on', job.details.provider_id)\n",
        "                if (job.details.provider_id == 'rigetti'):\n",
        "                    amount_utilized_rigetti += event.amount_consumed\n",
        "                if (job.details.provider_id == 'ionq'):\n",
        "                    amount_utilized_ionq += event.amount_consumed\n",
        "\n",
        "                if (job.details.provider_id == 'quantinuum'):\n",
        "                    #print(event.amount_consumed, event.dimension_name, 'on', job.details.provider_id)\n",
        "                    #print(event)\n",
        "                    if (event.dimension_id == 'hqc'):\n",
        "                        amount_utilized_quantinuum_hqc += event.amount_consumed\n",
        "                    else:\n",
        "                        amount_utilized_quantinuum_ehqc += event.amount_consumed\n",
        "\n",
        "\n",
        "\n",
        "print('Rigetti quota use in current workspace: ', \"{:,}\".format(amount_utilized_rigetti), '/', \"{:,}\".format(rigetti_quota))\n",
        "print('IonQ quota use in current workspace:', \"{:,}\".format(amount_utilized_ionq), '/', \"{:,}\".format(ionq_quota))\n",
        "print('Quantinuum HQC quota use in current workspace:', \"{:,}\".format(amount_utilized_quantinuum_hqc), '/', \"{:,}\".format(quantinuum_hqc_quota))\n",
        "print('Quantinuum eHQC quota use in current workspace:', \"{:,}\".format(amount_utilized_quantinuum_ehqc), '/', \"{:,}\".format(quantinuum_ehqc_quota))"
      ]
    },
    {
      "cell_type": "code",
      "execution_count": null,
      "metadata": {
        "jupyter": {
          "outputs_hidden": false,
          "source_hidden": false
        },
        "nteract": {
          "transient": {
            "deleting": false
          }
        }
      },
      "outputs": [],
      "source": [
        "\n",
        "job = workspace.get_job(\"02cf7204-7698-11ed-a6b1-00155db3d291\")\n",
        "print(job.details.cost_estimate.events[0])\n"
      ]
    }
  ],
  "metadata": {
    "kernel_info": {
      "name": "python3"
    },
    "kernelspec": {
      "display_name": "Python 3.10.8 64-bit (microsoft store)",
      "language": "python",
      "name": "python3"
    },
    "language_info": {
      "codemirror_mode": {
        "name": "ipython",
        "version": 3
      },
      "file_extension": ".py",
      "mimetype": "text/x-python",
      "name": "python",
      "nbconvert_exporter": "python",
      "pygments_lexer": "ipython3",
      "version": "3.10.9 (tags/v3.10.9:1dd9be6, Dec  6 2022, 20:01:21) [MSC v.1934 64 bit (AMD64)]"
    },
    "nteract": {
      "version": "nteract-front-end@1.0.0"
    },
    "vscode": {
      "interpreter": {
        "hash": "b6bcd221c9cd9ce3727161d70256b3c0b2b563aa4bdf9e9f2833e204c83333df"
      }
    }
  },
  "nbformat": 4,
  "nbformat_minor": 0
}

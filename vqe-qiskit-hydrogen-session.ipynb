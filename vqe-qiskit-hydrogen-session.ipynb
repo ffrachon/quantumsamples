{
  "cells": [
    {
      "attachments": {},
      "cell_type": "markdown",
      "metadata": {
        "nteract": {
          "transient": {
            "deleting": false
          }
        }
      },
      "source": [
        "# Simulate the ground state of a Hydrogen molecule using Variational Quantum Eigensolver (VQE)\n",
        "\n",
        "In this notebook, you'll learn how to run VQE for a $H_{2}$ molecule using Qiskit on an Azure Quantum backend.\n",
        "\n",
        "VQE is a variational algorithm for quantum chemistry that uses an optimization loop to minimize a cost function. The cost function is an energy evaluation $E = \\left\\langle\\psi|H|\\psi\\right\\rangle$ where $|\\psi (\\theta)\\rangle$ is a parametric trial state that estimates the ground state of the molecule. For each evaluation, we modify the trial state until the energy reaches a minimum.\n",
        "\n",
        "![VQE diagram](https://user-images.githubusercontent.com/4041805/166981008-023aba4c-26f8-498e-93ee-a1d9a39ddbcd.png)\n",
        "\n",
        "For more information about running VQE using Qiskit, see: [Qiskit Textbook - VQE Molecules](https://qiskit.org/textbook/ch-applications/vqe-molecules.html#implementationnoisy).\n",
        "\n",
        "To read more about the optimization method used in this example, see [Wikipedia - SPSA](https://en.wikipedia.org/wiki/Simultaneous_perturbation_stochastic_approximation)."
      ]
    },
    {
      "attachments": {},
      "cell_type": "markdown",
      "metadata": {
        "nteract": {
          "transient": {
            "deleting": false
          }
        }
      },
      "source": [
        "## Define  problem\n",
        "\n",
        "You will use the `PySCFDriver` to define the geometry of the $H_2$ molecule and generate the input for the VQE run. Alternatively, you could also use an `FCIDUMP` file as input. More information about the FCIDUMP file format is [here](https://www.sciencedirect.com/science/article/abs/pii/0010465589900337).\n",
        "\n",
        "The [Jordan-Wigner transformation](https://en.wikipedia.org/wiki/Jordan%E2%80%93Wigner_transformation) is specified as the `QubitConverter`to use."
      ]
    },
    {
      "cell_type": "code",
      "execution_count": 1,
      "metadata": {
        "jupyter": {
          "outputs_hidden": false,
          "source_hidden": false
        },
        "nteract": {
          "transient": {
            "deleting": false
          }
        }
      },
      "outputs": [],
      "source": [
        "from qiskit_nature.second_q.drivers import PySCFDriver\n",
        "from qiskit_nature.second_q.formats import  fcidump_to_problem\n",
        "from qiskit_nature.second_q.formats.fcidump import FCIDump\n",
        "from qiskit_nature.second_q.mappers import JordanWignerMapper, QubitConverter\n",
        "from qiskit_nature.units import DistanceUnit\n",
        "\n",
        "def get_problem():\n",
        "    # Replace with get_problem_fcidump() to use the FCIDUMP file as input.\n",
        "    return get_problem_pyscf();\n",
        "\n",
        "def get_problem_pyscf():\n",
        "    driver = PySCFDriver(\n",
        "        atom=\"H 0 0 0; H 0 0 0.735\",\n",
        "        basis=\"sto3g\",\n",
        "        charge=0,\n",
        "        spin=0,\n",
        "        unit=DistanceUnit.ANGSTROM,\n",
        "    )\n",
        "    \n",
        "    return driver.run()\n",
        "\n",
        "def get_problem_fcidump():\n",
        "    import requests\n",
        "    url = 'https://aka.ms/fcidump/vqe/h2-2e-2o'\n",
        "    r = requests.get(url, allow_redirects=True)\n",
        "    open('vqe_h2.fcidump', 'wb').write(r.content)\n",
        "    return fcidump_to_problem(FCIDump.from_file(\"vqe_h2.fcidump\"))\n",
        "\n",
        "def get_qubit_converter():\n",
        "    return QubitConverter(JordanWignerMapper(), two_qubit_reduction=True, z2symmetry_reduction='auto')\n",
        "\n"
      ]
    },
    {
      "cell_type": "markdown",
      "metadata": {
        "nteract": {
          "transient": {
            "deleting": false
          }
        }
      },
      "source": [
        "## Exact result\n",
        "First, let's compute the exact result that could be used to compare with the results of VQE later on. "
      ]
    },
    {
      "cell_type": "code",
      "execution_count": 2,
      "metadata": {
        "jupyter": {
          "outputs_hidden": false,
          "source_hidden": false
        },
        "nteract": {
          "transient": {
            "deleting": false
          }
        }
      },
      "outputs": [],
      "source": [
        "from qiskit_nature.second_q.algorithms import NumPyMinimumEigensolverFactory\n",
        "from qiskit_nature.second_q.algorithms import GroundStateEigensolver\n",
        "\n",
        "problem = get_problem()\n",
        "qubit_converter = get_qubit_converter()\n",
        "exact_solver = NumPyMinimumEigensolverFactory()\n",
        "calc = GroundStateEigensolver(qubit_converter, exact_solver)\n",
        "result = calc.solve(problem)\n"
      ]
    },
    {
      "cell_type": "code",
      "execution_count": 3,
      "metadata": {
        "jupyter": {
          "outputs_hidden": false,
          "source_hidden": false
        },
        "nteract": {
          "transient": {
            "deleting": false
          }
        }
      },
      "outputs": [
        {
          "name": "stdout",
          "output_type": "stream",
          "text": [
            "Exact result:\n",
            "\n",
            "-1.8572750302023793\n"
          ]
        }
      ],
      "source": [
        "print(\"Exact result:\\n\")\n",
        "print(result.groundenergy)\n"
      ]
    },
    {
      "cell_type": "markdown",
      "metadata": {
        "nteract": {
          "transient": {
            "deleting": false
          }
        }
      },
      "source": [
        "## Run on Qiskit's Local Aer Simulator without Noise\n",
        "\n",
        "Here, you will simulate the VQE run locally using the noiseless Aer simulator. Here the maximum number of iterations of the optimizer is set to 100."
      ]
    },
    {
      "cell_type": "code",
      "execution_count": 4,
      "metadata": {
        "jupyter": {
          "outputs_hidden": false,
          "source_hidden": false
        },
        "nteract": {
          "transient": {
            "deleting": false
          }
        }
      },
      "outputs": [],
      "source": [
        "from qiskit.algorithms.optimizers import SPSA\n",
        "from qiskit_aer.primitives import Estimator as AerEstimator\n",
        "from qiskit_nature.second_q.algorithms import GroundStateEigensolver, VQEUCCFactory\n",
        "from qiskit_nature.second_q.circuit.library import UCCSD\n",
        "\n",
        "problem = get_problem()\n",
        "qubit_converter = get_qubit_converter()\n",
        "\n",
        "spsa_optimizer=SPSA(maxiter=100)\n",
        "\n",
        "noiseless_estimator = AerEstimator(\n",
        "    run_options={ \"shots\": 1000 }\n",
        ")\n",
        "\n",
        "vqe_solver = VQEUCCFactory(estimator=noiseless_estimator, ansatz=UCCSD(), optimizer=spsa_optimizer)\n",
        "calc = GroundStateEigensolver(qubit_converter, vqe_solver)\n",
        "result = calc.solve(problem)\n"
      ]
    },
    {
      "cell_type": "code",
      "execution_count": 5,
      "metadata": {
        "jupyter": {
          "outputs_hidden": false,
          "source_hidden": false
        },
        "nteract": {
          "transient": {
            "deleting": false
          }
        }
      },
      "outputs": [
        {
          "name": "stdout",
          "output_type": "stream",
          "text": [
            "Local AER simulator result:\n",
            "\n",
            "-1.8563664849722241\n"
          ]
        }
      ],
      "source": [
        "print(\"Local AER simulator result:\\n\")\n",
        "print(result.groundenergy)\n"
      ]
    },
    {
      "attachments": {},
      "cell_type": "markdown",
      "metadata": {
        "editable": true,
        "nteract": {
          "transient": {
            "deleting": false
          }
        },
        "run_control": {
          "frozen": false
        }
      },
      "source": [
        "## Run on an Azure Quantum backend\n",
        "Now, you will run the same problem on a backend of your choice through Azure Quantum. Here the maximum number of iterations of the optimizer is set to 50.\n"
      ]
    },
    {
      "cell_type": "code",
      "execution_count": null,
      "metadata": {
        "jupyter": {
          "outputs_hidden": false,
          "source_hidden": false
        },
        "nteract": {
          "transient": {
            "deleting": false
          }
        }
      },
      "outputs": [],
      "source": [
        "from azure.quantum.qiskit import AzureQuantumProvider\n",
        "\n",
        "# Connect to the Azure Quantum workspace via a Qiskit provider\n",
        "provider = AzureQuantumProvider(\n",
        "            resource_id = \"\",\n",
        "            location = \"\")\n",
        "\n"
      ]
    },
    {
      "cell_type": "code",
      "execution_count": 7,
      "metadata": {
        "jupyter": {
          "outputs_hidden": false,
          "source_hidden": false
        },
        "nteract": {
          "transient": {
            "deleting": false
          }
        }
      },
      "outputs": [],
      "source": [
        "ionq_sim = provider.get_backend('ionq.simulator')\n",
        "quantinuum_sim = provider.get_backend('quantinuum.sim.h1-1e')\n",
        "rigetti_sim = provider.get_backend('rigetti.sim.qvm')\n",
        "rigetti_qpu = provider.get_backend('rigetti.qpu.aspen-m-3')\n",
        "\n",
        "# Set the backend you want to use here.\n",
        "# WARNING: Quantinuum simulator usage is not unlimited. Running this sample against it could consume a significant amount of your eHQC quota.\n",
        "backend_to_use = rigetti_qpu\n"
      ]
    },
    {
      "attachments": {},
      "cell_type": "markdown",
      "metadata": {
        "nteract": {
          "transient": {
            "deleting": false
          }
        }
      },
      "source": [
        "You will now kickoff the VQE run on the selected backend through Azure Quantum. Since this will trigger several jobs, a `session` is used to group them together into a single logical entity.\n",
        "\n",
        "#### IMPORTANT NOTES !!\n",
        "\n",
        "1. This cell will take about 20 minutes to run on the IonQ simulator for max_iter=50. It generates around 300 jobs. The time can vary depending on the backend queue times. Running with max_iter=50 may not be sufficient for the results to converge. You could consider increasing the number of iterations to 100 to give a more accurate result, but please be aware of the increased running times for the cell.\n",
        "1. If you are an Azure Quantum credits user, you may not have enough credits to run this sample on certain backends.\n",
        "1. **If you run this against a QPU hardware backend instead of a simulator, you will likely incur a large cost or consume a large number of your alloted credits.**\n",
        "1. You may lose results if you lose network connectivity while the cell is running. It may be better to download the notebook and run it locally for better reliability.\n",
        "1. If the `calc.solve` fails, one or more jobs may have failed. If so, you can find the session under `Job management` in your workspace, click on it to open the Session view and then click on a Job that failed to find the reason for failure.\n",
        "\n"
      ]
    },
    {
      "cell_type": "code",
      "execution_count": 8,
      "metadata": {
        "jupyter": {
          "outputs_hidden": false,
          "source_hidden": false
        },
        "nteract": {
          "transient": {
            "deleting": false
          }
        }
      },
      "outputs": [
        {
          "name": "stdout",
          "output_type": "stream",
          "text": [
            "...............................................................................................................................................................................................................To sign in, use a web browser to open the page https://microsoft.com/devicelogin and enter the code FJMNK73H2 to authenticate.\n"
          ]
        },
        {
          "name": "stderr",
          "output_type": "stream",
          "text": [
            "_DefaultAzureCredential failed to retrieve a token from the included credentials.\n",
            "Attempted credentials:\n",
            "\t_TokenFileCredential: Token already expired at Sat Apr 22 16:57:25 2023\n",
            "\tEnvironmentCredential: EnvironmentCredential authentication unavailable. Environment variables are not fully configured.\n",
            "Visit https://aka.ms/azsdk/python/identity/environmentcredential/troubleshoot to troubleshoot.this issue.\n",
            "\tManagedIdentityCredential: ManagedIdentityCredential authentication unavailable, no response from the IMDS endpoint.\n",
            "\tVisualStudioCodeCredential: Failed to get Azure user details from Visual Studio Code.\n",
            "\tAzureCliCredential: Please run 'az login' to set up an account\n",
            "\tAzurePowerShellCredential: PowerShell is not installed\n",
            "\tInteractiveBrowserCredential: Failed to open a browser\n",
            "\tDeviceCodeCredential: Timed out waiting for user to authenticate\n"
          ]
        },
        {
          "ename": "AlgorithmError",
          "evalue": "'The primitive job to evaluate the energy failed!'",
          "output_type": "error",
          "traceback": [
            "\u001b[0;31m---------------------------------------------------------------------------\u001b[0m",
            "\u001b[0;31mClientAuthenticationError\u001b[0m                 Traceback (most recent call last)",
            "File \u001b[0;32m/usr/local/lib/python3.9/site-packages/qiskit/algorithms/minimum_eigensolvers/vqe.py:254\u001b[0m, in \u001b[0;36mVQE._get_evaluate_energy.<locals>.evaluate_energy\u001b[0;34m(parameters)\u001b[0m\n\u001b[1;32m    253\u001b[0m     job \u001b[38;5;241m=\u001b[39m \u001b[38;5;28mself\u001b[39m\u001b[38;5;241m.\u001b[39mestimator\u001b[38;5;241m.\u001b[39mrun(batch_size \u001b[38;5;241m*\u001b[39m [ansatz], batch_size \u001b[38;5;241m*\u001b[39m [operator], parameters)\n\u001b[0;32m--> 254\u001b[0m     estimator_result \u001b[38;5;241m=\u001b[39m \u001b[43mjob\u001b[49m\u001b[38;5;241;43m.\u001b[39;49m\u001b[43mresult\u001b[49m\u001b[43m(\u001b[49m\u001b[43m)\u001b[49m\n\u001b[1;32m    255\u001b[0m \u001b[38;5;28;01mexcept\u001b[39;00m \u001b[38;5;167;01mException\u001b[39;00m \u001b[38;5;28;01mas\u001b[39;00m exc:\n",
            "File \u001b[0;32m/usr/local/lib/python3.9/site-packages/qiskit/primitives/primitive_job.py:50\u001b[0m, in \u001b[0;36mPrimitiveJob.result\u001b[0;34m(self)\u001b[0m\n\u001b[1;32m     49\u001b[0m \u001b[38;5;28mself\u001b[39m\u001b[38;5;241m.\u001b[39m_check_submitted()\n\u001b[0;32m---> 50\u001b[0m \u001b[38;5;28;01mreturn\u001b[39;00m \u001b[38;5;28;43mself\u001b[39;49m\u001b[38;5;241;43m.\u001b[39;49m\u001b[43m_future\u001b[49m\u001b[38;5;241;43m.\u001b[39;49m\u001b[43mresult\u001b[49m\u001b[43m(\u001b[49m\u001b[43m)\u001b[49m\n",
            "File \u001b[0;32m/usr/local/lib/python3.9/concurrent/futures/_base.py:439\u001b[0m, in \u001b[0;36mFuture.result\u001b[0;34m(self, timeout)\u001b[0m\n\u001b[1;32m    438\u001b[0m \u001b[38;5;28;01melif\u001b[39;00m \u001b[38;5;28mself\u001b[39m\u001b[38;5;241m.\u001b[39m_state \u001b[38;5;241m==\u001b[39m FINISHED:\n\u001b[0;32m--> 439\u001b[0m     \u001b[38;5;28;01mreturn\u001b[39;00m \u001b[38;5;28;43mself\u001b[39;49m\u001b[38;5;241;43m.\u001b[39;49m\u001b[43m__get_result\u001b[49m\u001b[43m(\u001b[49m\u001b[43m)\u001b[49m\n\u001b[1;32m    441\u001b[0m \u001b[38;5;28mself\u001b[39m\u001b[38;5;241m.\u001b[39m_condition\u001b[38;5;241m.\u001b[39mwait(timeout)\n",
            "File \u001b[0;32m/usr/local/lib/python3.9/concurrent/futures/_base.py:391\u001b[0m, in \u001b[0;36mFuture.__get_result\u001b[0;34m(self)\u001b[0m\n\u001b[1;32m    390\u001b[0m \u001b[38;5;28;01mtry\u001b[39;00m:\n\u001b[0;32m--> 391\u001b[0m     \u001b[38;5;28;01mraise\u001b[39;00m \u001b[38;5;28mself\u001b[39m\u001b[38;5;241m.\u001b[39m_exception\n\u001b[1;32m    392\u001b[0m \u001b[38;5;28;01mfinally\u001b[39;00m:\n\u001b[1;32m    393\u001b[0m     \u001b[38;5;66;03m# Break a reference cycle with the exception in self._exception\u001b[39;00m\n",
            "File \u001b[0;32m/usr/local/lib/python3.9/concurrent/futures/thread.py:58\u001b[0m, in \u001b[0;36m_WorkItem.run\u001b[0;34m(self)\u001b[0m\n\u001b[1;32m     57\u001b[0m \u001b[38;5;28;01mtry\u001b[39;00m:\n\u001b[0;32m---> 58\u001b[0m     result \u001b[38;5;241m=\u001b[39m \u001b[38;5;28;43mself\u001b[39;49m\u001b[38;5;241;43m.\u001b[39;49m\u001b[43mfn\u001b[49m\u001b[43m(\u001b[49m\u001b[38;5;241;43m*\u001b[39;49m\u001b[38;5;28;43mself\u001b[39;49m\u001b[38;5;241;43m.\u001b[39;49m\u001b[43margs\u001b[49m\u001b[43m,\u001b[49m\u001b[43m \u001b[49m\u001b[38;5;241;43m*\u001b[39;49m\u001b[38;5;241;43m*\u001b[39;49m\u001b[38;5;28;43mself\u001b[39;49m\u001b[38;5;241;43m.\u001b[39;49m\u001b[43mkwargs\u001b[49m\u001b[43m)\u001b[49m\n\u001b[1;32m     59\u001b[0m \u001b[38;5;28;01mexcept\u001b[39;00m \u001b[38;5;167;01mBaseException\u001b[39;00m \u001b[38;5;28;01mas\u001b[39;00m exc:\n",
            "File \u001b[0;32m/usr/local/lib/python3.9/site-packages/qiskit/primitives/backend_estimator.py:257\u001b[0m, in \u001b[0;36mBackendEstimator._call\u001b[0;34m(self, circuits, observables, parameter_values, **run_options)\u001b[0m\n\u001b[1;32m    256\u001b[0m \u001b[38;5;66;03m# Run\u001b[39;00m\n\u001b[0;32m--> 257\u001b[0m result, metadata \u001b[38;5;241m=\u001b[39m \u001b[43m_run_circuits\u001b[49m\u001b[43m(\u001b[49m\u001b[43mbound_circuits\u001b[49m\u001b[43m,\u001b[49m\u001b[43m \u001b[49m\u001b[38;5;28;43mself\u001b[39;49m\u001b[38;5;241;43m.\u001b[39;49m\u001b[43m_backend\u001b[49m\u001b[43m,\u001b[49m\u001b[43m \u001b[49m\u001b[38;5;241;43m*\u001b[39;49m\u001b[38;5;241;43m*\u001b[39;49m\u001b[43mrun_options\u001b[49m\u001b[43m)\u001b[49m\n\u001b[1;32m    259\u001b[0m \u001b[38;5;28;01mreturn\u001b[39;00m \u001b[38;5;28mself\u001b[39m\u001b[38;5;241m.\u001b[39m_postprocessing(result, accum, metadata)\n",
            "File \u001b[0;32m/usr/local/lib/python3.9/site-packages/qiskit/primitives/backend_estimator.py:67\u001b[0m, in \u001b[0;36m_run_circuits\u001b[0;34m(circuits, backend, **run_options)\u001b[0m\n\u001b[1;32m     63\u001b[0m     jobs \u001b[38;5;241m=\u001b[39m [\n\u001b[1;32m     64\u001b[0m         backend\u001b[38;5;241m.\u001b[39mrun(circuits[pos : pos \u001b[38;5;241m+\u001b[39m max_circuits], \u001b[38;5;241m*\u001b[39m\u001b[38;5;241m*\u001b[39mrun_options)\n\u001b[1;32m     65\u001b[0m         \u001b[38;5;28;01mfor\u001b[39;00m pos \u001b[38;5;129;01min\u001b[39;00m \u001b[38;5;28mrange\u001b[39m(\u001b[38;5;241m0\u001b[39m, \u001b[38;5;28mlen\u001b[39m(circuits), max_circuits)\n\u001b[1;32m     66\u001b[0m     ]\n\u001b[0;32m---> 67\u001b[0m     result \u001b[38;5;241m=\u001b[39m [x\u001b[38;5;241m.\u001b[39mresult() \u001b[38;5;28;01mfor\u001b[39;00m x \u001b[38;5;129;01min\u001b[39;00m jobs]\n\u001b[1;32m     68\u001b[0m \u001b[38;5;28;01melse\u001b[39;00m:\n",
            "File \u001b[0;32m/usr/local/lib/python3.9/site-packages/qiskit/primitives/backend_estimator.py:67\u001b[0m, in \u001b[0;36m<listcomp>\u001b[0;34m(.0)\u001b[0m\n\u001b[1;32m     63\u001b[0m     jobs \u001b[38;5;241m=\u001b[39m [\n\u001b[1;32m     64\u001b[0m         backend\u001b[38;5;241m.\u001b[39mrun(circuits[pos : pos \u001b[38;5;241m+\u001b[39m max_circuits], \u001b[38;5;241m*\u001b[39m\u001b[38;5;241m*\u001b[39mrun_options)\n\u001b[1;32m     65\u001b[0m         \u001b[38;5;28;01mfor\u001b[39;00m pos \u001b[38;5;129;01min\u001b[39;00m \u001b[38;5;28mrange\u001b[39m(\u001b[38;5;241m0\u001b[39m, \u001b[38;5;28mlen\u001b[39m(circuits), max_circuits)\n\u001b[1;32m     66\u001b[0m     ]\n\u001b[0;32m---> 67\u001b[0m     result \u001b[38;5;241m=\u001b[39m [\u001b[43mx\u001b[49m\u001b[38;5;241;43m.\u001b[39;49m\u001b[43mresult\u001b[49m\u001b[43m(\u001b[49m\u001b[43m)\u001b[49m \u001b[38;5;28;01mfor\u001b[39;00m x \u001b[38;5;129;01min\u001b[39;00m jobs]\n\u001b[1;32m     68\u001b[0m \u001b[38;5;28;01melse\u001b[39;00m:\n",
            "File \u001b[0;32m/usr/local/lib/python3.9/site-packages/azure/quantum/qiskit/job.py:84\u001b[0m, in \u001b[0;36mAzureQuantumJob.result\u001b[0;34m(self, timeout, sampler_seed)\u001b[0m\n\u001b[1;32m     83\u001b[0m \u001b[38;5;250m\u001b[39m\u001b[38;5;124;03m\"\"\"Return the results of the job.\"\"\"\u001b[39;00m\n\u001b[0;32m---> 84\u001b[0m \u001b[38;5;28;43mself\u001b[39;49m\u001b[38;5;241;43m.\u001b[39;49m\u001b[43m_azure_job\u001b[49m\u001b[38;5;241;43m.\u001b[39;49m\u001b[43mwait_until_completed\u001b[49m\u001b[43m(\u001b[49m\u001b[43mtimeout_secs\u001b[49m\u001b[38;5;241;43m=\u001b[39;49m\u001b[43mtimeout\u001b[49m\u001b[43m)\u001b[49m\n\u001b[1;32m     86\u001b[0m success \u001b[38;5;241m=\u001b[39m \u001b[38;5;28mself\u001b[39m\u001b[38;5;241m.\u001b[39m_azure_job\u001b[38;5;241m.\u001b[39mdetails\u001b[38;5;241m.\u001b[39mstatus \u001b[38;5;241m==\u001b[39m \u001b[38;5;124m\"\u001b[39m\u001b[38;5;124mSucceeded\u001b[39m\u001b[38;5;124m\"\u001b[39m\n",
            "File \u001b[0;32m/usr/local/lib/python3.9/site-packages/azure/quantum/job/job.py:94\u001b[0m, in \u001b[0;36mJob.wait_until_completed\u001b[0;34m(self, max_poll_wait_secs, timeout_secs, print_progress)\u001b[0m\n\u001b[1;32m     93\u001b[0m total_time \u001b[38;5;241m+\u001b[39m\u001b[38;5;241m=\u001b[39m poll_wait\n\u001b[0;32m---> 94\u001b[0m \u001b[38;5;28;43mself\u001b[39;49m\u001b[38;5;241;43m.\u001b[39;49m\u001b[43mrefresh\u001b[49m\u001b[43m(\u001b[49m\u001b[43m)\u001b[49m\n\u001b[1;32m     95\u001b[0m poll_wait \u001b[38;5;241m=\u001b[39m (\n\u001b[1;32m     96\u001b[0m     max_poll_wait_secs\n\u001b[1;32m     97\u001b[0m     \u001b[38;5;28;01mif\u001b[39;00m poll_wait \u001b[38;5;241m>\u001b[39m\u001b[38;5;241m=\u001b[39m max_poll_wait_secs\n\u001b[1;32m     98\u001b[0m     \u001b[38;5;28;01melse\u001b[39;00m poll_wait \u001b[38;5;241m*\u001b[39m \u001b[38;5;241m1.5\u001b[39m\n\u001b[1;32m     99\u001b[0m )\n",
            "File \u001b[0;32m/usr/local/lib/python3.9/site-packages/azure/quantum/job/job.py:52\u001b[0m, in \u001b[0;36mJob.refresh\u001b[0;34m(self)\u001b[0m\n\u001b[1;32m     51\u001b[0m \u001b[38;5;250m\u001b[39m\u001b[38;5;124;03m\"\"\"Refreshes the Job's details by querying the workspace.\"\"\"\u001b[39;00m\n\u001b[0;32m---> 52\u001b[0m \u001b[38;5;28mself\u001b[39m\u001b[38;5;241m.\u001b[39mdetails \u001b[38;5;241m=\u001b[39m \u001b[38;5;28;43mself\u001b[39;49m\u001b[38;5;241;43m.\u001b[39;49m\u001b[43mworkspace\u001b[49m\u001b[38;5;241;43m.\u001b[39;49m\u001b[43mget_job\u001b[49m\u001b[43m(\u001b[49m\u001b[38;5;28;43mself\u001b[39;49m\u001b[38;5;241;43m.\u001b[39;49m\u001b[43mid\u001b[49m\u001b[43m)\u001b[49m\u001b[38;5;241m.\u001b[39mdetails\n",
            "File \u001b[0;32m/usr/local/lib/python3.9/site-packages/azure/quantum/workspace.py:289\u001b[0m, in \u001b[0;36mWorkspace.get_job\u001b[0;34m(self, job_id)\u001b[0m\n\u001b[1;32m    288\u001b[0m client \u001b[38;5;241m=\u001b[39m \u001b[38;5;28mself\u001b[39m\u001b[38;5;241m.\u001b[39m_get_jobs_client()\n\u001b[0;32m--> 289\u001b[0m details \u001b[38;5;241m=\u001b[39m \u001b[43mclient\u001b[49m\u001b[38;5;241;43m.\u001b[39;49m\u001b[43mget\u001b[49m\u001b[43m(\u001b[49m\u001b[43mjob_id\u001b[49m\u001b[43m)\u001b[49m\n\u001b[1;32m    290\u001b[0m target_factory \u001b[38;5;241m=\u001b[39m TargetFactory(base_cls\u001b[38;5;241m=\u001b[39mTarget, workspace\u001b[38;5;241m=\u001b[39m\u001b[38;5;28mself\u001b[39m)\n",
            "File \u001b[0;32m/usr/local/lib/python3.9/site-packages/azure/core/tracing/decorator.py:78\u001b[0m, in \u001b[0;36mdistributed_trace.<locals>.decorator.<locals>.wrapper_use_tracer\u001b[0;34m(*args, **kwargs)\u001b[0m\n\u001b[1;32m     77\u001b[0m \u001b[38;5;28;01mif\u001b[39;00m span_impl_type \u001b[38;5;129;01mis\u001b[39;00m \u001b[38;5;28;01mNone\u001b[39;00m:\n\u001b[0;32m---> 78\u001b[0m     \u001b[38;5;28;01mreturn\u001b[39;00m \u001b[43mfunc\u001b[49m\u001b[43m(\u001b[49m\u001b[38;5;241;43m*\u001b[39;49m\u001b[43margs\u001b[49m\u001b[43m,\u001b[49m\u001b[43m \u001b[49m\u001b[38;5;241;43m*\u001b[39;49m\u001b[38;5;241;43m*\u001b[39;49m\u001b[43mkwargs\u001b[49m\u001b[43m)\u001b[49m\n\u001b[1;32m     80\u001b[0m \u001b[38;5;66;03m# Merge span is parameter is set, but only if no explicit parent are passed\u001b[39;00m\n",
            "File \u001b[0;32m/usr/local/lib/python3.9/site-packages/azure/quantum/_client/operations/_operations.py:663\u001b[0m, in \u001b[0;36mJobsOperations.get\u001b[0;34m(self, job_id, **kwargs)\u001b[0m\n\u001b[1;32m    662\u001b[0m _stream \u001b[38;5;241m=\u001b[39m \u001b[38;5;28;01mFalse\u001b[39;00m\n\u001b[0;32m--> 663\u001b[0m pipeline_response: PipelineResponse \u001b[38;5;241m=\u001b[39m \u001b[38;5;28;43mself\u001b[39;49m\u001b[38;5;241;43m.\u001b[39;49m\u001b[43m_client\u001b[49m\u001b[38;5;241;43m.\u001b[39;49m\u001b[43m_pipeline\u001b[49m\u001b[38;5;241;43m.\u001b[39;49m\u001b[43mrun\u001b[49m\u001b[43m(\u001b[49m\u001b[43m  \u001b[49m\u001b[38;5;66;43;03m# pylint: disable=protected-access\u001b[39;49;00m\n\u001b[1;32m    664\u001b[0m \u001b[43m    \u001b[49m\u001b[43mrequest\u001b[49m\u001b[43m,\u001b[49m\u001b[43m \u001b[49m\u001b[43mstream\u001b[49m\u001b[38;5;241;43m=\u001b[39;49m\u001b[43m_stream\u001b[49m\u001b[43m,\u001b[49m\u001b[43m \u001b[49m\u001b[38;5;241;43m*\u001b[39;49m\u001b[38;5;241;43m*\u001b[39;49m\u001b[43mkwargs\u001b[49m\n\u001b[1;32m    665\u001b[0m \u001b[43m\u001b[49m\u001b[43m)\u001b[49m\n\u001b[1;32m    667\u001b[0m response \u001b[38;5;241m=\u001b[39m pipeline_response\u001b[38;5;241m.\u001b[39mhttp_response\n",
            "File \u001b[0;32m/usr/local/lib/python3.9/site-packages/azure/core/pipeline/_base.py:205\u001b[0m, in \u001b[0;36mPipeline.run\u001b[0;34m(self, request, **kwargs)\u001b[0m\n\u001b[1;32m    200\u001b[0m first_node \u001b[38;5;241m=\u001b[39m (\n\u001b[1;32m    201\u001b[0m     \u001b[38;5;28mself\u001b[39m\u001b[38;5;241m.\u001b[39m_impl_policies[\u001b[38;5;241m0\u001b[39m]\n\u001b[1;32m    202\u001b[0m     \u001b[38;5;28;01mif\u001b[39;00m \u001b[38;5;28mself\u001b[39m\u001b[38;5;241m.\u001b[39m_impl_policies\n\u001b[1;32m    203\u001b[0m     \u001b[38;5;28;01melse\u001b[39;00m _TransportRunner(\u001b[38;5;28mself\u001b[39m\u001b[38;5;241m.\u001b[39m_transport)\n\u001b[1;32m    204\u001b[0m )\n\u001b[0;32m--> 205\u001b[0m \u001b[38;5;28;01mreturn\u001b[39;00m \u001b[43mfirst_node\u001b[49m\u001b[38;5;241;43m.\u001b[39;49m\u001b[43msend\u001b[49m\u001b[43m(\u001b[49m\u001b[43mpipeline_request\u001b[49m\u001b[43m)\u001b[49m\n",
            "File \u001b[0;32m/usr/local/lib/python3.9/site-packages/azure/core/pipeline/_base.py:69\u001b[0m, in \u001b[0;36m_SansIOHTTPPolicyRunner.send\u001b[0;34m(self, request)\u001b[0m\n\u001b[1;32m     68\u001b[0m \u001b[38;5;28;01mtry\u001b[39;00m:\n\u001b[0;32m---> 69\u001b[0m     response \u001b[38;5;241m=\u001b[39m \u001b[38;5;28;43mself\u001b[39;49m\u001b[38;5;241;43m.\u001b[39;49m\u001b[43mnext\u001b[49m\u001b[38;5;241;43m.\u001b[39;49m\u001b[43msend\u001b[49m\u001b[43m(\u001b[49m\u001b[43mrequest\u001b[49m\u001b[43m)\u001b[49m\n\u001b[1;32m     70\u001b[0m \u001b[38;5;28;01mexcept\u001b[39;00m \u001b[38;5;167;01mException\u001b[39;00m:  \u001b[38;5;66;03m# pylint: disable=broad-except\u001b[39;00m\n",
            "File \u001b[0;32m/usr/local/lib/python3.9/site-packages/azure/core/pipeline/_base.py:69\u001b[0m, in \u001b[0;36m_SansIOHTTPPolicyRunner.send\u001b[0;34m(self, request)\u001b[0m\n\u001b[1;32m     68\u001b[0m \u001b[38;5;28;01mtry\u001b[39;00m:\n\u001b[0;32m---> 69\u001b[0m     response \u001b[38;5;241m=\u001b[39m \u001b[38;5;28;43mself\u001b[39;49m\u001b[38;5;241;43m.\u001b[39;49m\u001b[43mnext\u001b[49m\u001b[38;5;241;43m.\u001b[39;49m\u001b[43msend\u001b[49m\u001b[43m(\u001b[49m\u001b[43mrequest\u001b[49m\u001b[43m)\u001b[49m\n\u001b[1;32m     70\u001b[0m \u001b[38;5;28;01mexcept\u001b[39;00m \u001b[38;5;167;01mException\u001b[39;00m:  \u001b[38;5;66;03m# pylint: disable=broad-except\u001b[39;00m\n",
            "    \u001b[0;31m[... skipping similar frames: _SansIOHTTPPolicyRunner.send at line 69 (2 times)]\u001b[0m\n",
            "File \u001b[0;32m/usr/local/lib/python3.9/site-packages/azure/core/pipeline/_base.py:69\u001b[0m, in \u001b[0;36m_SansIOHTTPPolicyRunner.send\u001b[0;34m(self, request)\u001b[0m\n\u001b[1;32m     68\u001b[0m \u001b[38;5;28;01mtry\u001b[39;00m:\n\u001b[0;32m---> 69\u001b[0m     response \u001b[38;5;241m=\u001b[39m \u001b[38;5;28;43mself\u001b[39;49m\u001b[38;5;241;43m.\u001b[39;49m\u001b[43mnext\u001b[49m\u001b[38;5;241;43m.\u001b[39;49m\u001b[43msend\u001b[49m\u001b[43m(\u001b[49m\u001b[43mrequest\u001b[49m\u001b[43m)\u001b[49m\n\u001b[1;32m     70\u001b[0m \u001b[38;5;28;01mexcept\u001b[39;00m \u001b[38;5;167;01mException\u001b[39;00m:  \u001b[38;5;66;03m# pylint: disable=broad-except\u001b[39;00m\n",
            "File \u001b[0;32m/usr/local/lib/python3.9/site-packages/azure/core/pipeline/policies/_redirect.py:160\u001b[0m, in \u001b[0;36mRedirectPolicy.send\u001b[0;34m(self, request)\u001b[0m\n\u001b[1;32m    159\u001b[0m \u001b[38;5;28;01mwhile\u001b[39;00m retryable:\n\u001b[0;32m--> 160\u001b[0m     response \u001b[38;5;241m=\u001b[39m \u001b[38;5;28;43mself\u001b[39;49m\u001b[38;5;241;43m.\u001b[39;49m\u001b[43mnext\u001b[49m\u001b[38;5;241;43m.\u001b[39;49m\u001b[43msend\u001b[49m\u001b[43m(\u001b[49m\u001b[43mrequest\u001b[49m\u001b[43m)\u001b[49m\n\u001b[1;32m    161\u001b[0m     redirect_location \u001b[38;5;241m=\u001b[39m \u001b[38;5;28mself\u001b[39m\u001b[38;5;241m.\u001b[39mget_redirect_location(response)\n",
            "File \u001b[0;32m/usr/local/lib/python3.9/site-packages/azure/core/pipeline/policies/_retry.py:474\u001b[0m, in \u001b[0;36mRetryPolicy.send\u001b[0;34m(self, request)\u001b[0m\n\u001b[1;32m    473\u001b[0m \u001b[38;5;28mself\u001b[39m\u001b[38;5;241m.\u001b[39m_configure_timeout(request, absolute_timeout, is_response_error)\n\u001b[0;32m--> 474\u001b[0m response \u001b[38;5;241m=\u001b[39m \u001b[38;5;28;43mself\u001b[39;49m\u001b[38;5;241;43m.\u001b[39;49m\u001b[43mnext\u001b[49m\u001b[38;5;241;43m.\u001b[39;49m\u001b[43msend\u001b[49m\u001b[43m(\u001b[49m\u001b[43mrequest\u001b[49m\u001b[43m)\u001b[49m\n\u001b[1;32m    475\u001b[0m \u001b[38;5;28;01mif\u001b[39;00m \u001b[38;5;28mself\u001b[39m\u001b[38;5;241m.\u001b[39mis_retry(retry_settings, response):\n",
            "File \u001b[0;32m/usr/local/lib/python3.9/site-packages/azure/core/pipeline/policies/_authentication.py:115\u001b[0m, in \u001b[0;36mBearerTokenCredentialPolicy.send\u001b[0;34m(self, request)\u001b[0m\n\u001b[1;32m    110\u001b[0m \u001b[38;5;250m\u001b[39m\u001b[38;5;124;03m\"\"\"Authorize request with a bearer token and send it to the next policy\u001b[39;00m\n\u001b[1;32m    111\u001b[0m \n\u001b[1;32m    112\u001b[0m \u001b[38;5;124;03m:param request: The pipeline request object\u001b[39;00m\n\u001b[1;32m    113\u001b[0m \u001b[38;5;124;03m:type request: ~azure.core.pipeline.PipelineRequest\u001b[39;00m\n\u001b[1;32m    114\u001b[0m \u001b[38;5;124;03m\"\"\"\u001b[39;00m\n\u001b[0;32m--> 115\u001b[0m \u001b[38;5;28;43mself\u001b[39;49m\u001b[38;5;241;43m.\u001b[39;49m\u001b[43mon_request\u001b[49m\u001b[43m(\u001b[49m\u001b[43mrequest\u001b[49m\u001b[43m)\u001b[49m\n\u001b[1;32m    116\u001b[0m \u001b[38;5;28;01mtry\u001b[39;00m:\n",
            "File \u001b[0;32m/usr/local/lib/python3.9/site-packages/azure/core/pipeline/policies/_authentication.py:92\u001b[0m, in \u001b[0;36mBearerTokenCredentialPolicy.on_request\u001b[0;34m(self, request)\u001b[0m\n\u001b[1;32m     91\u001b[0m \u001b[38;5;28;01mif\u001b[39;00m \u001b[38;5;28mself\u001b[39m\u001b[38;5;241m.\u001b[39m_token \u001b[38;5;129;01mis\u001b[39;00m \u001b[38;5;28;01mNone\u001b[39;00m \u001b[38;5;129;01mor\u001b[39;00m \u001b[38;5;28mself\u001b[39m\u001b[38;5;241m.\u001b[39m_need_new_token:\n\u001b[0;32m---> 92\u001b[0m     \u001b[38;5;28mself\u001b[39m\u001b[38;5;241m.\u001b[39m_token \u001b[38;5;241m=\u001b[39m \u001b[38;5;28;43mself\u001b[39;49m\u001b[38;5;241;43m.\u001b[39;49m\u001b[43m_credential\u001b[49m\u001b[38;5;241;43m.\u001b[39;49m\u001b[43mget_token\u001b[49m\u001b[43m(\u001b[49m\u001b[38;5;241;43m*\u001b[39;49m\u001b[38;5;28;43mself\u001b[39;49m\u001b[38;5;241;43m.\u001b[39;49m\u001b[43m_scopes\u001b[49m\u001b[43m)\u001b[49m\n\u001b[1;32m     93\u001b[0m \u001b[38;5;28mself\u001b[39m\u001b[38;5;241m.\u001b[39m_update_headers(request\u001b[38;5;241m.\u001b[39mhttp_request\u001b[38;5;241m.\u001b[39mheaders, \u001b[38;5;28mself\u001b[39m\u001b[38;5;241m.\u001b[39m_token\u001b[38;5;241m.\u001b[39mtoken)\n",
            "File \u001b[0;32m/usr/local/lib/python3.9/site-packages/azure/quantum/_authentication/_default.py:154\u001b[0m, in \u001b[0;36m_DefaultAzureCredential.get_token\u001b[0;34m(self, *scopes, **kwargs)\u001b[0m\n\u001b[1;32m    152\u001b[0m     \u001b[38;5;28mself\u001b[39m\u001b[38;5;241m.\u001b[39m_initialize_credentials()\n\u001b[0;32m--> 154\u001b[0m \u001b[38;5;28;01mreturn\u001b[39;00m \u001b[38;5;28;43msuper\u001b[39;49m\u001b[43m(\u001b[49m\u001b[43m_DefaultAzureCredential\u001b[49m\u001b[43m,\u001b[49m\u001b[43m \u001b[49m\u001b[38;5;28;43mself\u001b[39;49m\u001b[43m)\u001b[49m\u001b[38;5;241;43m.\u001b[39;49m\u001b[43mget_token\u001b[49m\u001b[43m(\u001b[49m\u001b[38;5;241;43m*\u001b[39;49m\u001b[43mscopes\u001b[49m\u001b[43m,\u001b[49m\u001b[43m \u001b[49m\u001b[38;5;241;43m*\u001b[39;49m\u001b[38;5;241;43m*\u001b[39;49m\u001b[43mkwargs\u001b[49m\u001b[43m)\u001b[49m\n",
            "File \u001b[0;32m/usr/local/lib/python3.9/site-packages/azure/quantum/_authentication/_chained.py:121\u001b[0m, in \u001b[0;36m_ChainedTokenCredential.get_token\u001b[0;34m(self, *scopes, **kwargs)\u001b[0m\n\u001b[1;32m    120\u001b[0m _LOGGER\u001b[38;5;241m.\u001b[39mwarning(message)\n\u001b[0;32m--> 121\u001b[0m \u001b[38;5;28;01mraise\u001b[39;00m ClientAuthenticationError(message\u001b[38;5;241m=\u001b[39mmessage)\n",
            "\u001b[0;31mClientAuthenticationError\u001b[0m: _DefaultAzureCredential failed to retrieve a token from the included credentials.\nAttempted credentials:\n\t_TokenFileCredential: Token already expired at Sat Apr 22 16:57:25 2023\n\tEnvironmentCredential: EnvironmentCredential authentication unavailable. Environment variables are not fully configured.\nVisit https://aka.ms/azsdk/python/identity/environmentcredential/troubleshoot to troubleshoot.this issue.\n\tManagedIdentityCredential: ManagedIdentityCredential authentication unavailable, no response from the IMDS endpoint.\n\tVisualStudioCodeCredential: Failed to get Azure user details from Visual Studio Code.\n\tAzureCliCredential: Please run 'az login' to set up an account\n\tAzurePowerShellCredential: PowerShell is not installed\n\tInteractiveBrowserCredential: Failed to open a browser\n\tDeviceCodeCredential: Timed out waiting for user to authenticate",
            "\nThe above exception was the direct cause of the following exception:\n",
            "\u001b[0;31mAlgorithmError\u001b[0m                            Traceback (most recent call last)",
            "Cell \u001b[0;32mIn[8], line 18\u001b[0m\n\u001b[1;32m     15\u001b[0m \u001b[38;5;66;03m# Wrap the call to solve in a session \"with\" block so that all jobs submitted by it are grouped together.\u001b[39;00m\n\u001b[1;32m     16\u001b[0m \u001b[38;5;66;03m# Learn more about Interactive Hybrid and the Session API at https://aka.ms/AQ/Hybrid/Sessions/Docs\u001b[39;00m\n\u001b[1;32m     17\u001b[0m \u001b[38;5;28;01mwith\u001b[39;00m backend_to_use\u001b[38;5;241m.\u001b[39mopen_session(name\u001b[38;5;241m=\u001b[39m\u001b[38;5;124m\"\u001b[39m\u001b[38;5;124mVQE H2\u001b[39m\u001b[38;5;124m\"\u001b[39m) \u001b[38;5;28;01mas\u001b[39;00m session:\n\u001b[0;32m---> 18\u001b[0m     result \u001b[38;5;241m=\u001b[39m calc\u001b[38;5;241m.\u001b[39msolve(problem)\n",
            "Cell \u001b[0;32mIn[8], line 18\u001b[0m\n\u001b[1;32m     15\u001b[0m \u001b[38;5;66;03m# Wrap the call to solve in a session \"with\" block so that all jobs submitted by it are grouped together.\u001b[39;00m\n\u001b[1;32m     16\u001b[0m \u001b[38;5;66;03m# Learn more about Interactive Hybrid and the Session API at https://aka.ms/AQ/Hybrid/Sessions/Docs\u001b[39;00m\n\u001b[1;32m     17\u001b[0m \u001b[38;5;28;01mwith\u001b[39;00m backend_to_use\u001b[38;5;241m.\u001b[39mopen_session(name\u001b[38;5;241m=\u001b[39m\u001b[38;5;124m\"\u001b[39m\u001b[38;5;124mVQE H2\u001b[39m\u001b[38;5;124m\"\u001b[39m) \u001b[38;5;28;01mas\u001b[39;00m session:\n\u001b[0;32m---> 18\u001b[0m     result \u001b[38;5;241m=\u001b[39m \u001b[43mcalc\u001b[49m\u001b[38;5;241;43m.\u001b[39;49m\u001b[43msolve\u001b[49m\u001b[43m(\u001b[49m\u001b[43mproblem\u001b[49m\u001b[43m)\u001b[49m\n",
            "File \u001b[0;32m/usr/local/lib/python3.9/site-packages/qiskit_nature/second_q/algorithms/ground_state_solvers/ground_state_eigensolver.py:77\u001b[0m, in \u001b[0;36mGroundStateEigensolver.solve\u001b[0;34m(self, problem, aux_operators)\u001b[0m\n\u001b[1;32m     58\u001b[0m \u001b[38;5;250m\u001b[39m\u001b[38;5;124;03m\"\"\"Compute Ground State properties.\u001b[39;00m\n\u001b[1;32m     59\u001b[0m \n\u001b[1;32m     60\u001b[0m \u001b[38;5;124;03mArgs:\u001b[39;00m\n\u001b[0;32m   (...)\u001b[0m\n\u001b[1;32m     74\u001b[0m \u001b[38;5;124;03m    :meth:`~.BaseProblem.interpret`.\u001b[39;00m\n\u001b[1;32m     75\u001b[0m \u001b[38;5;124;03m\"\"\"\u001b[39;00m\n\u001b[1;32m     76\u001b[0m main_operator, aux_ops \u001b[38;5;241m=\u001b[39m \u001b[38;5;28mself\u001b[39m\u001b[38;5;241m.\u001b[39mget_qubit_operators(problem, aux_operators)\n\u001b[0;32m---> 77\u001b[0m raw_mes_result \u001b[38;5;241m=\u001b[39m \u001b[38;5;28;43mself\u001b[39;49m\u001b[38;5;241;43m.\u001b[39;49m\u001b[43msolver\u001b[49m\u001b[38;5;241;43m.\u001b[39;49m\u001b[43mcompute_minimum_eigenvalue\u001b[49m\u001b[43m(\u001b[49m\u001b[43m  \u001b[49m\u001b[38;5;66;43;03m# type: ignore\u001b[39;49;00m\n\u001b[1;32m     78\u001b[0m \u001b[43m    \u001b[49m\u001b[43mmain_operator\u001b[49m\u001b[43m,\u001b[49m\u001b[43m \u001b[49m\u001b[43maux_ops\u001b[49m\n\u001b[1;32m     79\u001b[0m \u001b[43m\u001b[49m\u001b[43m)\u001b[49m\n\u001b[1;32m     81\u001b[0m eigenstate_result \u001b[38;5;241m=\u001b[39m EigenstateResult\u001b[38;5;241m.\u001b[39mfrom_result(raw_mes_result)\n\u001b[1;32m     82\u001b[0m result \u001b[38;5;241m=\u001b[39m problem\u001b[38;5;241m.\u001b[39minterpret(eigenstate_result)\n",
            "File \u001b[0;32m/usr/local/lib/python3.9/site-packages/qiskit/algorithms/minimum_eigensolvers/vqe.py:191\u001b[0m, in \u001b[0;36mVQE.compute_minimum_eigenvalue\u001b[0;34m(self, operator, aux_operators)\u001b[0m\n\u001b[1;32m    186\u001b[0m \u001b[38;5;28;01melse\u001b[39;00m:\n\u001b[1;32m    187\u001b[0m     \u001b[38;5;66;03m# we always want to submit as many estimations per job as possible for minimal\u001b[39;00m\n\u001b[1;32m    188\u001b[0m     \u001b[38;5;66;03m# overhead on the hardware\u001b[39;00m\n\u001b[1;32m    189\u001b[0m     was_updated \u001b[38;5;241m=\u001b[39m _set_default_batchsize(\u001b[38;5;28mself\u001b[39m\u001b[38;5;241m.\u001b[39moptimizer)\n\u001b[0;32m--> 191\u001b[0m     optimizer_result \u001b[38;5;241m=\u001b[39m \u001b[38;5;28;43mself\u001b[39;49m\u001b[38;5;241;43m.\u001b[39;49m\u001b[43moptimizer\u001b[49m\u001b[38;5;241;43m.\u001b[39;49m\u001b[43mminimize\u001b[49m\u001b[43m(\u001b[49m\n\u001b[1;32m    192\u001b[0m \u001b[43m        \u001b[49m\u001b[43mfun\u001b[49m\u001b[38;5;241;43m=\u001b[39;49m\u001b[43mevaluate_energy\u001b[49m\u001b[43m,\u001b[49m\u001b[43m \u001b[49m\u001b[43mx0\u001b[49m\u001b[38;5;241;43m=\u001b[39;49m\u001b[43minitial_point\u001b[49m\u001b[43m,\u001b[49m\u001b[43m \u001b[49m\u001b[43mjac\u001b[49m\u001b[38;5;241;43m=\u001b[39;49m\u001b[43mevaluate_gradient\u001b[49m\u001b[43m,\u001b[49m\u001b[43m \u001b[49m\u001b[43mbounds\u001b[49m\u001b[38;5;241;43m=\u001b[39;49m\u001b[43mbounds\u001b[49m\n\u001b[1;32m    193\u001b[0m \u001b[43m    \u001b[49m\u001b[43m)\u001b[49m\n\u001b[1;32m    195\u001b[0m     \u001b[38;5;66;03m# reset to original value\u001b[39;00m\n\u001b[1;32m    196\u001b[0m     \u001b[38;5;28;01mif\u001b[39;00m was_updated:\n",
            "File \u001b[0;32m/usr/local/lib/python3.9/site-packages/qiskit/algorithms/optimizers/spsa.py:512\u001b[0m, in \u001b[0;36mSPSA.minimize\u001b[0;34m(self, fun, x0, jac, bounds)\u001b[0m\n\u001b[1;32m    502\u001b[0m \u001b[38;5;28;01mdef\u001b[39;00m \u001b[38;5;21mminimize\u001b[39m(\n\u001b[1;32m    503\u001b[0m     \u001b[38;5;28mself\u001b[39m,\n\u001b[1;32m    504\u001b[0m     fun: Callable[[POINT], \u001b[38;5;28mfloat\u001b[39m],\n\u001b[0;32m   (...)\u001b[0m\n\u001b[1;32m    509\u001b[0m     \u001b[38;5;66;03m# ensure learning rate and perturbation are correctly set: either none or both\u001b[39;00m\n\u001b[1;32m    510\u001b[0m     \u001b[38;5;66;03m# this happens only here because for the calibration the loss function is required\u001b[39;00m\n\u001b[1;32m    511\u001b[0m     \u001b[38;5;28;01mif\u001b[39;00m \u001b[38;5;28mself\u001b[39m\u001b[38;5;241m.\u001b[39mlearning_rate \u001b[38;5;129;01mis\u001b[39;00m \u001b[38;5;28;01mNone\u001b[39;00m \u001b[38;5;129;01mand\u001b[39;00m \u001b[38;5;28mself\u001b[39m\u001b[38;5;241m.\u001b[39mperturbation \u001b[38;5;129;01mis\u001b[39;00m \u001b[38;5;28;01mNone\u001b[39;00m:\n\u001b[0;32m--> 512\u001b[0m         get_eta, get_eps \u001b[38;5;241m=\u001b[39m \u001b[38;5;28;43mself\u001b[39;49m\u001b[38;5;241;43m.\u001b[39;49m\u001b[43mcalibrate\u001b[49m\u001b[43m(\u001b[49m\u001b[43mfun\u001b[49m\u001b[43m,\u001b[49m\u001b[43m \u001b[49m\u001b[43mx0\u001b[49m\u001b[43m,\u001b[49m\u001b[43m \u001b[49m\u001b[43mmax_evals_grouped\u001b[49m\u001b[38;5;241;43m=\u001b[39;49m\u001b[38;5;28;43mself\u001b[39;49m\u001b[38;5;241;43m.\u001b[39;49m\u001b[43m_max_evals_grouped\u001b[49m\u001b[43m)\u001b[49m\n\u001b[1;32m    513\u001b[0m     \u001b[38;5;28;01melse\u001b[39;00m:\n\u001b[1;32m    514\u001b[0m         get_eta, get_eps \u001b[38;5;241m=\u001b[39m _validate_pert_and_learningrate(\n\u001b[1;32m    515\u001b[0m             \u001b[38;5;28mself\u001b[39m\u001b[38;5;241m.\u001b[39mperturbation, \u001b[38;5;28mself\u001b[39m\u001b[38;5;241m.\u001b[39mlearning_rate\n\u001b[1;32m    516\u001b[0m         )\n",
            "File \u001b[0;32m/usr/local/lib/python3.9/site-packages/qiskit/algorithms/optimizers/spsa.py:333\u001b[0m, in \u001b[0;36mSPSA.calibrate\u001b[0;34m(loss, initial_point, c, stability_constant, target_magnitude, alpha, gamma, modelspace, max_evals_grouped)\u001b[0m\n\u001b[1;32m    330\u001b[0m     pert \u001b[38;5;241m=\u001b[39m bernoulli_perturbation(dim)\n\u001b[1;32m    331\u001b[0m     points \u001b[38;5;241m+\u001b[39m\u001b[38;5;241m=\u001b[39m [initial_point \u001b[38;5;241m+\u001b[39m c \u001b[38;5;241m*\u001b[39m pert, initial_point \u001b[38;5;241m-\u001b[39m c \u001b[38;5;241m*\u001b[39m pert]\n\u001b[0;32m--> 333\u001b[0m losses \u001b[38;5;241m=\u001b[39m \u001b[43m_batch_evaluate\u001b[49m\u001b[43m(\u001b[49m\u001b[43mloss\u001b[49m\u001b[43m,\u001b[49m\u001b[43m \u001b[49m\u001b[43mpoints\u001b[49m\u001b[43m,\u001b[49m\u001b[43m \u001b[49m\u001b[43mmax_evals_grouped\u001b[49m\u001b[43m)\u001b[49m\n\u001b[1;32m    335\u001b[0m avg_magnitudes \u001b[38;5;241m=\u001b[39m \u001b[38;5;241m0\u001b[39m\n\u001b[1;32m    336\u001b[0m \u001b[38;5;28;01mfor\u001b[39;00m i \u001b[38;5;129;01min\u001b[39;00m \u001b[38;5;28mrange\u001b[39m(steps):\n",
            "File \u001b[0;32m/usr/local/lib/python3.9/site-packages/qiskit/algorithms/optimizers/spsa.py:744\u001b[0m, in \u001b[0;36m_batch_evaluate\u001b[0;34m(function, points, max_evals_grouped, unpack_points)\u001b[0m\n\u001b[1;32m    742\u001b[0m         results \u001b[38;5;241m+\u001b[39m\u001b[38;5;241m=\u001b[39m _as_list(function(\u001b[38;5;241m*\u001b[39mbatch))\n\u001b[1;32m    743\u001b[0m     \u001b[38;5;28;01melse\u001b[39;00m:\n\u001b[0;32m--> 744\u001b[0m         results \u001b[38;5;241m+\u001b[39m\u001b[38;5;241m=\u001b[39m _as_list(\u001b[43mfunction\u001b[49m\u001b[43m(\u001b[49m\u001b[43mbatch\u001b[49m\u001b[43m)\u001b[49m)\n\u001b[1;32m    746\u001b[0m \u001b[38;5;28;01mreturn\u001b[39;00m results\n",
            "File \u001b[0;32m/usr/local/lib/python3.9/site-packages/qiskit/algorithms/minimum_eigensolvers/vqe.py:256\u001b[0m, in \u001b[0;36mVQE._get_evaluate_energy.<locals>.evaluate_energy\u001b[0;34m(parameters)\u001b[0m\n\u001b[1;32m    254\u001b[0m     estimator_result \u001b[38;5;241m=\u001b[39m job\u001b[38;5;241m.\u001b[39mresult()\n\u001b[1;32m    255\u001b[0m \u001b[38;5;28;01mexcept\u001b[39;00m \u001b[38;5;167;01mException\u001b[39;00m \u001b[38;5;28;01mas\u001b[39;00m exc:\n\u001b[0;32m--> 256\u001b[0m     \u001b[38;5;28;01mraise\u001b[39;00m AlgorithmError(\u001b[38;5;124m\"\u001b[39m\u001b[38;5;124mThe primitive job to evaluate the energy failed!\u001b[39m\u001b[38;5;124m\"\u001b[39m) \u001b[38;5;28;01mfrom\u001b[39;00m \u001b[38;5;21;01mexc\u001b[39;00m\n\u001b[1;32m    258\u001b[0m values \u001b[38;5;241m=\u001b[39m estimator_result\u001b[38;5;241m.\u001b[39mvalues\n\u001b[1;32m    260\u001b[0m \u001b[38;5;28;01mif\u001b[39;00m \u001b[38;5;28mself\u001b[39m\u001b[38;5;241m.\u001b[39mcallback \u001b[38;5;129;01mis\u001b[39;00m \u001b[38;5;129;01mnot\u001b[39;00m \u001b[38;5;28;01mNone\u001b[39;00m:\n",
            "\u001b[0;31mAlgorithmError\u001b[0m: 'The primitive job to evaluate the energy failed!'"
          ]
        }
      ],
      "source": [
        "\n",
        "from qiskit.algorithms.optimizers import SPSA\n",
        "from qiskit_nature.second_q.algorithms import GroundStateEigensolver, VQEUCCFactory\n",
        "from qiskit_nature.second_q.circuit.library import UCCSD\n",
        "from qiskit.primitives.backend_estimator import BackendEstimator\n",
        "\n",
        "problem = get_problem()\n",
        "qubit_converter = get_qubit_converter()\n",
        "\n",
        "spsa_optimizer=SPSA(maxiter=50)\n",
        "\n",
        "backend_estimator = BackendEstimator(backend=backend_to_use, options={ \"shots\": 1000 })\n",
        "vqe_solver = VQEUCCFactory(estimator=backend_estimator, ansatz=UCCSD(), optimizer=spsa_optimizer)\n",
        "calc = GroundStateEigensolver(qubit_converter, vqe_solver)\n",
        "\n",
        "# Wrap the call to solve in a session \"with\" block so that all jobs submitted by it are grouped together.\n",
        "# Learn more about Interactive Hybrid and the Session API at https://aka.ms/AQ/Hybrid/Sessions/Docs\n",
        "with backend_to_use.open_session(name=\"VQE H2\") as session:\n",
        "    result = calc.solve(problem)\n"
      ]
    },
    {
      "cell_type": "code",
      "execution_count": null,
      "metadata": {
        "jupyter": {
          "outputs_hidden": false,
          "source_hidden": false
        },
        "nteract": {
          "transient": {
            "deleting": false
          }
        }
      },
      "outputs": [],
      "source": [
        "print(\"AzureQuantum \" + backend_to_use.name() + \" result:\\n\")\n",
        "print(result.groundenergy)\n"
      ]
    },
    {
      "attachments": {},
      "cell_type": "markdown",
      "metadata": {
        "nteract": {
          "transient": {
            "deleting": false
          }
        }
      },
      "source": [
        "In this notebook, you've run VQE on an Azure Quantum backend to calculate the ground state of a $H_2$ molecule. Nice job! 👏🏽\n",
        "\n",
        "As a next step, you can modify the sample to run your own molecule, or run it on QPU hardware.\n",
        "\n"
      ]
    }
  ],
  "metadata": {
    "kernel_info": {
      "name": "python3"
    },
    "kernelspec": {
      "display_name": "Python 3 (ipykernel)",
      "language": "python",
      "name": "python3"
    },
    "language_info": {
      "codemirror_mode": {
        "name": "ipython",
        "version": 3
      },
      "file_extension": ".py",
      "mimetype": "text/x-python",
      "name": "python",
      "nbconvert_exporter": "python",
      "pygments_lexer": "ipython3",
      "version": "3.9.16"
    },
    "microsoft": {
      "host": {
        "AzureQuantum": {
          "sourceLink": "https://raw.githubusercontent.com/microsoft/Quantum/24725289ae5cf41f7bb1e1fb10d1c135cb68f1cf/samples/azure-quantum/variational-quantum-eigensolver/VQE-qiskit-hydrogen-session.ipynb",
          "sourceType": "SampleGallery"
        }
      }
    },
    "nteract": {
      "version": "nteract-front-end@1.0.0"
    }
  },
  "nbformat": 4,
  "nbformat_minor": 0
}
